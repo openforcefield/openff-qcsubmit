{
 "cells": [
  {
   "cell_type": "markdown",
   "metadata": {},
   "source": [
    "This notebook will walk through the process of creating a new collection using QCSubmit and running MM clacultions such as optimizations and torsiondrives using QCEngine and QCFractal.\n",
    "\n",
    "Here we will be doing this inside of a snowflake server which is deleted after the notebook is shut down but the same can be done for a persistent local instance of qcarchive with many workers. For information on how to set this up see [here](http://docs.qcarchive.molssi.org/projects/qcfractal/en/latest/setup_server.html). \n",
    "\n",
    "## You will need:\n",
    "- [The openforcefield toolkit master branch from github](https://github.com/openforcefield/openforcefield)\n",
    "- [The qcsubmit master branch from github](https://github.com/openforcefield/qcsubmit)\n",
    "- [The QCEngine openmm refactor from github](https://github.com/jthorton/QCEngine/tree/openmm_cmiles)\n",
    "- QCFractal\n",
    "- [OpenMMforcefields](https://github.com/openmm/openmmforcefields)\n",
    "\n",
    "# Plan:\n",
    "\n",
    "- First we will download a small optimisation dataset from the public QCArchive \n",
    "- Then create a new optimization dataset using qcsubmit from the final geometries of the optimizations\n",
    "- Then we will compute the dataset using openff and gaff with the new branch of qcengine\n",
    "\n",
    "### Note\n",
    "During testing three optimizations failed due to missing BCCs"
   ]
  },
  {
   "cell_type": "code",
   "execution_count": 1,
   "metadata": {},
   "outputs": [],
   "source": [
    "# create a link to the public qcarchive \n",
    "from qcportal import FractalClient\n",
    "client = FractalClient()"
   ]
  },
  {
   "cell_type": "markdown",
   "metadata": {},
   "source": [
    "We have chossen the `OpenFF Gen 2 Opt Set 2 Coverage` collection as it only contains 373 records, so lets collect it using qcsubmit. Here we can see that only 359 optimizations are complete without error and are pulled from the server. For speed we have also only pulled the final molecule in each optimization."
   ]
  },
  {
   "cell_type": "code",
   "execution_count": 2,
   "metadata": {},
   "outputs": [
    {
     "name": "stdout",
     "output_type": "stream",
     "text": [
      "requested molecules 359\n",
      "requested results 359\n",
      "CPU times: user 769 ms, sys: 161 ms, total: 930 ms\n",
      "Wall time: 17.1 s\n"
     ]
    }
   ],
   "source": [
    "from qcsubmit.results import OptimizationCollectionResult\n",
    "\n",
    "%time result = OptimizationCollectionResult.from_server(client, \"default\", \"OpenFF Gen 2 Opt Set 2 Coverage\", final_molecule_only=True)"
   ]
  },
  {
   "cell_type": "markdown",
   "metadata": {},
   "source": [
    "Now lets make a new Optimization dataset ready to computed using MM. Note we use the `mm_extras` flag to make sure that the extras on each molecule are included, which are needed for acurate typing of the molecule. "
   ]
  },
  {
   "cell_type": "code",
   "execution_count": 3,
   "metadata": {},
   "outputs": [],
   "source": [
    "\n",
    "dataset = result.create_optimization_dataset(dataset_name=\"mm optimizations\", description=\"testing mm optimizations\", tagline=\"mm optimizations\", mm_extras=True)"
   ]
  },
  {
   "cell_type": "markdown",
   "metadata": {},
   "source": [
    "Now lets set up to run using parsley and OpenMM and submit the dataset to a local qcarchive instance that we can spin up here."
   ]
  },
  {
   "cell_type": "code",
   "execution_count": 4,
   "metadata": {},
   "outputs": [
    {
     "data": {
      "text/html": [
       "\n",
       "<h3>FractalClient</h3>\n",
       "<ul>\n",
       "  <li><b>Server:   &nbsp; </b>FractalSnowFlake_db_1c793</li>\n",
       "  <li><b>Address:  &nbsp; </b>https://localhost:55507/</li>\n",
       "  <li><b>Username: &nbsp; </b>None</li>\n",
       "</ul>\n"
      ],
      "text/plain": [
       "FractalClient(server_name='FractalSnowFlake_db_1c793', address='https://localhost:55507/', username='None')"
      ]
     },
     "execution_count": 4,
     "metadata": {},
     "output_type": "execute_result"
    }
   ],
   "source": [
    "from qcfractal import FractalSnowflakeHandler\n",
    "\n",
    "server = FractalSnowflakeHandler()\n",
    "\n",
    "# Obtain a FractalClient to the server\n",
    "client = FractalClient(server)\n",
    "client"
   ]
  },
  {
   "cell_type": "markdown",
   "metadata": {},
   "source": [
    "Lets set the program, method, basis and rename the spec inline with the what we want to compute"
   ]
  },
  {
   "cell_type": "code",
   "execution_count": 5,
   "metadata": {},
   "outputs": [],
   "source": [
    "dataset.program = \"openmm\"\n",
    "dataset.method = \"openff_unconstrained-1.0.0\"\n",
    "dataset.basis = \"smirnoff\"\n",
    "dataset.spec_name = \"parsley\"\n",
    "dataset.spec_description = \"default parsley spec\"\n",
    "dataset.metadata.long_description_url = \"https://www.test.org/\""
   ]
  },
  {
   "cell_type": "code",
   "execution_count": 6,
   "metadata": {},
   "outputs": [
    {
     "data": {
      "text/plain": [
       "359"
      ]
     },
     "execution_count": 6,
     "metadata": {},
     "output_type": "execute_result"
    }
   ],
   "source": [
    "# now submit the dataset to the local fractal instance\n",
    "dataset.submit(client=client, await_result=False)"
   ]
  },
  {
   "cell_type": "markdown",
   "metadata": {},
   "source": [
    "Now that the dataset has been submited we can pull it from the database and query the status."
   ]
  },
  {
   "cell_type": "code",
   "execution_count": 7,
   "metadata": {},
   "outputs": [
    {
     "data": {
      "text/html": [
       "<div>\n",
       "<style scoped>\n",
       "    .dataframe tbody tr th:only-of-type {\n",
       "        vertical-align: middle;\n",
       "    }\n",
       "\n",
       "    .dataframe tbody tr th {\n",
       "        vertical-align: top;\n",
       "    }\n",
       "\n",
       "    .dataframe thead th {\n",
       "        text-align: right;\n",
       "    }\n",
       "</style>\n",
       "<table border=\"1\" class=\"dataframe\">\n",
       "  <thead>\n",
       "    <tr style=\"text-align: right;\">\n",
       "      <th></th>\n",
       "      <th></th>\n",
       "      <th>tagline</th>\n",
       "    </tr>\n",
       "    <tr>\n",
       "      <th>collection</th>\n",
       "      <th>name</th>\n",
       "      <th></th>\n",
       "    </tr>\n",
       "  </thead>\n",
       "  <tbody>\n",
       "    <tr>\n",
       "      <th>OptimizationDataset</th>\n",
       "      <th>mm optimizations</th>\n",
       "      <td>mm optimizations</td>\n",
       "    </tr>\n",
       "  </tbody>\n",
       "</table>\n",
       "</div>"
      ],
      "text/plain": [
       "                                               tagline\n",
       "collection          name                              \n",
       "OptimizationDataset mm optimizations  mm optimizations"
      ]
     },
     "execution_count": 7,
     "metadata": {},
     "output_type": "execute_result"
    }
   ],
   "source": [
    "client.list_collections()"
   ]
  },
  {
   "cell_type": "code",
   "execution_count": 73,
   "metadata": {},
   "outputs": [],
   "source": [
    "opt_ds = client.get_collection(\"OptimizationDataset\", \"mm optimizations\")"
   ]
  },
  {
   "cell_type": "markdown",
   "metadata": {},
   "source": [
    "This can be buggy and may need runnig twice if you get an error the first time.\n",
    "Note the optimizations should have now started but can take some time using only one worker, to spin up more use a local qcarchive instance."
   ]
  },
  {
   "cell_type": "code",
   "execution_count": 75,
   "metadata": {},
   "outputs": [
    {
     "data": {
      "text/html": [
       "<div>\n",
       "<style scoped>\n",
       "    .dataframe tbody tr th:only-of-type {\n",
       "        vertical-align: middle;\n",
       "    }\n",
       "\n",
       "    .dataframe tbody tr th {\n",
       "        vertical-align: top;\n",
       "    }\n",
       "\n",
       "    .dataframe thead th {\n",
       "        text-align: right;\n",
       "    }\n",
       "</style>\n",
       "<table border=\"1\" class=\"dataframe\">\n",
       "  <thead>\n",
       "    <tr style=\"text-align: right;\">\n",
       "      <th></th>\n",
       "      <th>parsley</th>\n",
       "    </tr>\n",
       "  </thead>\n",
       "  <tbody>\n",
       "    <tr>\n",
       "      <th>COMPLETE</th>\n",
       "      <td>356</td>\n",
       "    </tr>\n",
       "    <tr>\n",
       "      <th>ERROR</th>\n",
       "      <td>3</td>\n",
       "    </tr>\n",
       "  </tbody>\n",
       "</table>\n",
       "</div>"
      ],
      "text/plain": [
       "          parsley\n",
       "COMPLETE      356\n",
       "ERROR           3"
      ]
     },
     "execution_count": 75,
     "metadata": {},
     "output_type": "execute_result"
    }
   ],
   "source": [
    "opt_ds.status(\"parsley\")"
   ]
  },
  {
   "cell_type": "code",
   "execution_count": 11,
   "metadata": {},
   "outputs": [],
   "source": [
    "record= opt_ds.get_record(\"c1cc1nc(=o)c[n@@]2c[c@h](co2)o-0\", \"parsley\")"
   ]
  },
  {
   "cell_type": "code",
   "execution_count": 18,
   "metadata": {},
   "outputs": [
    {
     "data": {
      "application/vnd.jupyter.widget-view+json": {
       "model_id": "60c0798a5c334217acb17cc6de63b8ab",
       "version_major": 2,
       "version_minor": 0
      },
      "text/plain": [
       "NGLWidget()"
      ]
     },
     "metadata": {},
     "output_type": "display_data"
    }
   ],
   "source": [
    "# we can load the initial and final molecule to inspect the difference in geometry\n",
    "record.get_initial_molecule()"
   ]
  },
  {
   "cell_type": "code",
   "execution_count": 19,
   "metadata": {},
   "outputs": [
    {
     "data": {
      "application/vnd.jupyter.widget-view+json": {
       "model_id": "054ac583d5ca4a8a8d9141796c1a5d68",
       "version_major": 2,
       "version_minor": 0
      },
      "text/plain": [
       "NGLWidget()"
      ]
     },
     "metadata": {},
     "output_type": "display_data"
    }
   ],
   "source": [
    "record.get_final_molecule()"
   ]
  },
  {
   "cell_type": "code",
   "execution_count": 25,
   "metadata": {},
   "outputs": [
    {
     "data": {
      "text/plain": [
       "DatasetEntry(index='c1cc1nc(=o)c[n@@]2c[c@h](co2)o-0', initial_molecules=[Molecule(name='C8H14N2O3', formula='C8H14N2O3', hash='71c887a')], attributes={'canonical_explicit_hydrogen_smiles': '[H]C1(C(C1([H])N([H])C(=O)C([H])([H])N2C(C(C(O2)([H])[H])([H])O[H])([H])[H])([H])[H])[H]', 'canonical_isomeric_explicit_hydrogen_mapped_smiles': '[H:23][C@:7]1([C:4]([N@:9]([O:12][C:5]1([H:20])[H:21])[C:8]([H:24])([H:25])[C:1](=[O:11])[N:10]([H:26])[C:6]2([C:2]([C:3]2([H:16])[H:17])([H:14])[H:15])[H:22])([H:18])[H:19])[O:13][H:27]', 'canonical_isomeric_explicit_hydrogen_smiles': '[H][C@]1(C([N@](OC1([H])[H])C([H])([H])C(=O)N([H])C2(C(C2([H])[H])([H])[H])[H])([H])[H])O[H]', 'canonical_isomeric_smiles': 'C1CC1NC(=O)C[N@@]2C[C@H](CO2)O', 'canonical_smiles': 'C1CC1NC(=O)CN2CC(CO2)O', 'inchi_key': 'VODRAFCALIZTJH-SSDOTTSWSA-N', 'molecular_formula': 'C8H14N2O3', 'provenance': 'cmiles_0+unknown_openeye_2019.Apr.2', 'standard_inchi': 'InChI=1S/C8H14N2O3/c11-7-3-10(13-5-7)4-8(12)9-6-1-2-6/h6-7,11H,1-5H2,(H,9,12)/t7-/m1/s1', 'unique_protomer_representation': 'C1CC1NC(=O)C[N@@]2C[C@H](CO2)O', 'unique_tautomer_representation': 'O=C(CN1C[C@@H](O)CO1)NC1CC1'}, dihedrals=None, extras={'canonical_isomeric_explicit_hydrogen_mapped_smiles': '[H:23][C@:7]1([C:4]([N@:9]([O:12][C:5]1([H:20])[H:21])[C:8]([H:24])([H:25])[C:1](=[O:11])[N:10]([H:26])[C:6]2([C:2]([C:3]2([H:16])[H:17])([H:14])[H:15])[H:22])([H:18])[H:19])[O:13][H:27]'}, keywords={'program': 'psi4'})"
      ]
     },
     "execution_count": 25,
     "metadata": {},
     "output_type": "execute_result"
    }
   ],
   "source": [
    "dataset.dataset[\"c1cc1nc(=o)c[n@@]2c[c@h](co2)o-0\"]"
   ]
  },
  {
   "cell_type": "markdown",
   "metadata": {},
   "source": [
    "During testing some molecules failed the optiztion stage using parsley the molecules can be caught here."
   ]
  },
  {
   "cell_type": "code",
   "execution_count": 69,
   "metadata": {},
   "outputs": [
    {
     "name": "stdout",
     "output_type": "stream",
     "text": [
      "c[s@](=[n-])(=o)nc1cc1-0\n",
      "c[s@](=[n-])(=o)nc1cc1-1\n",
      "cc1(cop(=s)(oc1)[s-])c-0\n"
     ]
    }
   ],
   "source": [
    "for index in opt_ds.df.index:\n",
    "    if opt_ds.df.loc[index].parsley.status.value == \"ERROR\":\n",
    "        print(index)"
   ]
  },
  {
   "cell_type": "code",
   "execution_count": 67,
   "metadata": {},
   "outputs": [],
   "source": [
    "record = opt_ds.get_record(\"cc1(cop(=s)(oc1)[s-])c-0\", \"parsley\")"
   ]
  },
  {
   "cell_type": "code",
   "execution_count": 68,
   "metadata": {},
   "outputs": [
    {
     "data": {
      "text/plain": [
       "ComputeError(error_type='unknown', error_message='geomeTRIC run_json error:\\nTraceback (most recent call last):\\n  File \"/Users/joshuahorton/miniconda3/envs/toolkit/lib/python3.6/site-packages/geometric/run_json.py\", line 214, in geometric_run_json\\n    geometric.optimize.Optimize(coords, M, IC, engine, None, params)\\n  File \"/Users/joshuahorton/miniconda3/envs/toolkit/lib/python3.6/site-packages/geometric/optimize.py\", line 1331, in Optimize\\n    return optimizer.optimizeGeometry()\\n  File \"/Users/joshuahorton/miniconda3/envs/toolkit/lib/python3.6/site-packages/geometric/optimize.py\", line 1293, in optimizeGeometry\\n    self.calcEnergyForce()\\n  File \"/Users/joshuahorton/miniconda3/envs/toolkit/lib/python3.6/site-packages/geometric/optimize.py\", line 1002, in calcEnergyForce\\n    spcalc = self.engine.calc(self.X, self.dirname)\\n  File \"/Users/joshuahorton/miniconda3/envs/toolkit/lib/python3.6/site-packages/geometric/engine.py\", line 873, in calc\\n    return self.calc_new(coords, dirname)\\n  File \"/Users/joshuahorton/miniconda3/envs/toolkit/lib/python3.6/site-packages/geometric/engine.py\", line 865, in calc_new\\n    raise QCEngineAPIEngineError(\"QCEngineAPI computation did not execute correctly. Message: \" + ret[\"error\"][\"error_message\"])\\ngeometric.errors.QCEngineAPIEngineError: QCEngineAPI computation did not execute correctly. Message: QCEngine Execution Error:\\nTraceback (most recent call last):\\n  File \"/Users/joshuahorton/Documents/Software/QCEngine/qcengine/util.py\", line 115, in compute_wrapper\\n    yield metadata\\n  File \"/Users/joshuahorton/Documents/Software/QCEngine/qcengine/compute.py\", line 91, in compute\\n    output_data = executor.compute(input_data, config)\\n  File \"/Users/joshuahorton/Documents/Software/QCEngine/qcengine/programs/openmm.py\", line 234, in compute\\n    molecule=off_mol, method=input_data.model.method, keywords=input_data.keywords\\n  File \"/Users/joshuahorton/Documents/Software/QCEngine/qcengine/programs/openmm.py\", line 178, in _generate_openmm_sysetm\\n    system = system_generator.create_system(topology=topology.to_openmm(), molecules=[molecule])\\n  File \"/Users/joshuahorton/miniconda3/envs/toolkit/lib/python3.6/site-packages/openmmforcefields/generators/system_generators.py\", line 307, in create_system\\n    system = self.forcefield.createSystem(topology, **forcefield_kwargs)\\n  File \"/Users/joshuahorton/miniconda3/envs/toolkit/lib/python3.6/site-packages/simtk/openmm/app/forcefield.py\", line 1148, in createSystem\\n    templateForResidue = self._matchAllResiduesToTemplates(data, topology, residueTemplates, ignoreExternalBonds)\\n  File \"/Users/joshuahorton/miniconda3/envs/toolkit/lib/python3.6/site-packages/simtk/openmm/app/forcefield.py\", line 1352, in _matchAllResiduesToTemplates\\n    if generator(self, res):\\n  File \"/Users/joshuahorton/miniconda3/envs/toolkit/lib/python3.6/site-packages/openmmforcefields/generators/template_generators.py\", line 301, in generator\\n    ffxml_contents = self.generate_residue_template(molecule)\\n  File \"/Users/joshuahorton/miniconda3/envs/toolkit/lib/python3.6/site-packages/openmmforcefields/generators/template_generators.py\", line 1112, in generate_residue_template\\n    system = self._smirnoff_forcefield.create_openmm_system(molecule.to_topology(), charge_from_molecules=charge_from_molecules)\\n  File \"/Users/joshuahorton/Documents/Software/openforcefield/openforcefield/typing/engines/smirnoff/forcefield.py\", line 1138, in create_openmm_system\\n    parameter_handler.create_force(system, topology, **kwargs)\\n  File \"/Users/joshuahorton/Documents/Software/openforcefield/openforcefield/typing/engines/smirnoff/parameters.py\", line 2958, in create_force\\n    temp_mol.compute_partial_charges_am1bcc(toolkit_registry=toolkit_registry)\\n  File \"/Users/joshuahorton/Documents/Software/openforcefield/openforcefield/topology/molecule.py\", line 2317, in compute_partial_charges_am1bcc\\n    self\\n  File \"/Users/joshuahorton/Documents/Software/openforcefield/openforcefield/utils/toolkits.py\", line 4106, in call\\n    return method(*args, **kwargs)\\n  File \"/Users/joshuahorton/Documents/Software/openforcefield/openforcefield/utils/toolkits.py\", line 1749, in compute_partial_charges_am1bcc\\n    raise Exception(\\'Unable to assign charges; OE error: \"{}\"\\'.format(errfs.str().decode(\"UTF-8\")))\\nException: Unable to assign charges; OE error: \"Warning: BCIChargeCorrector: BCI charge corrections for mol \\nWarning:                     missing bcc parameter for the P8-S9 bond (BCIType 420951)\\nWarning: OEBCCPartialCharges: Unable to assign all BCCs in mol \\nWarning: OESEmpBCCPartialCharges: Stopping the charging process at the first stage for mol \\n\"\\n\\n')"
      ]
     },
     "execution_count": 68,
     "metadata": {},
     "output_type": "execute_result"
    }
   ],
   "source": [
    "record.get_error()"
   ]
  },
  {
   "cell_type": "code",
   "execution_count": null,
   "metadata": {},
   "outputs": [],
   "source": []
  }
 ],
 "metadata": {
  "kernelspec": {
   "display_name": "Python 3",
   "language": "python",
   "name": "python3"
  },
  "language_info": {
   "codemirror_mode": {
    "name": "ipython",
    "version": 3
   },
   "file_extension": ".py",
   "mimetype": "text/x-python",
   "name": "python",
   "nbconvert_exporter": "python",
   "pygments_lexer": "ipython3",
   "version": "3.6.10"
  }
 },
 "nbformat": 4,
 "nbformat_minor": 4
}
