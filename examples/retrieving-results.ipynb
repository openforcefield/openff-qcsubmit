{
 "cells": [
  {
   "cell_type": "markdown",
   "metadata": {},
   "source": [
    "# Retrieving Result Collections\n",
    "\n",
    "This example shows how QCSubmit can be used to retrieve the results of quantum chemical (QC) calculations from a [QCFractal] instance such as [QCArchive].\n",
    "\n",
    "In particular, it demonstrates how:\n",
    "\n",
    "* raw torsion drive, optimised geometry and hessian result records can be retrieved from the public\n",
    "  [QCArchive] server and stored in a result collection\n",
    "\n",
    "* the retrieved result records can be filtered and curated using a set of built-in filters\n",
    "\n",
    "* the result collection can be saved and loaded from disk\n",
    "\n",
    "[QCFractal]: http://docs.qcarchive.molssi.org/projects/qcfractal/en/latest/\n",
    "[QCArchive]: https://qcarchive.molssi.org/\n",
    "\n",
    "For the sake of clarity all verbose warnings will be disabled in this tutorial:"
   ]
  },
  {
   "cell_type": "code",
   "execution_count": 1,
   "metadata": {
    "pycharm": {
     "name": "#%%\n"
    }
   },
   "outputs": [],
   "source": [
    "import warnings\n",
    "\n",
    "warnings.filterwarnings(\"ignore\")\n",
    "import logging\n",
    "\n",
    "logging.getLogger(\"openff.toolkit\").setLevel(logging.ERROR)"
   ]
  },
  {
   "cell_type": "markdown",
   "metadata": {
    "pycharm": {
     "name": "#%% md\n"
    }
   },
   "source": [
    "## Retrieving result collections\n",
    "\n",
    "QCSubmit provides a suite of utilities for retrieving and curating collections of QC results directly from a running QCFractal server, or an already computed QCPortal dataset. This functionality is provided through three main classes:\n",
    "\n",
    "* `BasicResultCollection` - stores references to simple QCPortal result record that may contain energies, gradients, or hessians computed for a molecule in a single conformation.\n",
    "\n",
    "* `OptimizationResultCollection` - stores references to full optimization result records (i.e. `OptimizationRecord`\n",
    "  objects), as well as the final minimised conformer produced by the optimization.\n",
    "\n",
    "* `TorsionDriveResultCollection` - stores references to full torsion drive result records (i.e. `TorsionDriveRecord`\n",
    "  objects), as well as the minimum energy conformer associated with each torsion angle that was scanned.\n",
    "\n",
    "Each of these collections can be generated directly from a running `QCFractal` server using the `from_server` class\n",
    "method.\n",
    "\n",
    "We begin by creating a QCPortal `PortalClient` instance that will allow us to communicate with the running\n",
    "server at `https://api.qcarchive.molssi.org:443`. We also supply the `cache_dir` argument as the current directory,\n",
    "which will lead to each downloaded dataset being saved to a SQLite database."
   ]
  },
  {
   "cell_type": "code",
   "execution_count": 2,
   "metadata": {
    "pycharm": {
     "name": "#%%\n"
    }
   },
   "outputs": [],
   "source": [
    "from qcportal import PortalClient\n",
    "\n",
    "qc_client = PortalClient(\"https://api.qcarchive.molssi.org:443\", cache_dir=\".\")"
   ]
  },
  {
   "cell_type": "markdown",
   "metadata": {
    "pycharm": {
     "name": "#%% md\n"
    }
   },
   "source": [
    "Other servers can be accessed by providing the server's URI.\n",
    "\n",
    "We can then use this to generate our result collections:"
   ]
  },
  {
   "cell_type": "code",
   "execution_count": 3,
   "metadata": {
    "pycharm": {
     "name": "#%%\n"
    }
   },
   "outputs": [
    {
     "name": "stdout",
     "output_type": "stream",
     "text": [
      "entries={'https://api.qcarchive.molssi.org:443/': [BasicResult(type='basic', record_id=32651764, cmiles='[H:6][C:1]1([C:2]([C:4]([C:5]([C:3]1([H:10])[H:11])([H:14])[H:15])([H:12])[H:13])([H:8])[H:9])[H:7]', inchi_key='RGSFGYAAUTVSQA-UHFFFAOYNA-N'), BasicResult(type='basic', record_id=32651734, cmiles='[H:7][C:1]1([C:2]([C:4]([C:6]([C:5]([C:3]1([H:11])[H:12])([H:15])[H:16])([H:17])[H:18])([H:13])[H:14])([H:9])[H:10])[H:8]', inchi_key='XDTMQSROBMDMFD-UHFFFAOYNA-N'), BasicResult(type='basic', record_id=32651722, cmiles='[H:7][c:1]1[c:2]([c:4]([c:6]([c:5]([c:3]1[H:9])[H:11])[H:12])[H:10])[H:8]', inchi_key='UHOVQNZJYSORNB-UHFFFAOYNA-N'), BasicResult(type='basic', record_id=32651809, cmiles='[H:11][c:1]1[c:2]([c:4]([c:6]([c:5]([c:3]1[H:13])[H:15])[C:7]([H:16])([H:17])[C:8]([H:18])([H:19])[C:9]([H:20])([H:21])[O:10][H:22])[H:14])[H:12]', inchi_key='VAJVDSVGBWFCLW-UHFFFAOYNA-N'), BasicResult(type='basic', record_id=32651781, cmiles='[H:11][c:1]1[c:2]([c:4]([c:6]([c:5]([c:3]1[H:13])[H:15])[C:7]([H:16])([H:17])[C:8]([H:18])([H:19])[C:9]([H:20])([H:21])[O:10][H:22])[H:14])[H:12]', inchi_key='VAJVDSVGBWFCLW-UHFFFAOYNA-N')]} provenance={} type='BasicResultCollection'\n",
      "entries={'https://api.qcarchive.molssi.org:443/': [OptimizationResult(type='optimization', record_id=6091335, cmiles='[H:12][c:1]1[c:3]([c:4]([n:9][c:2]([n:8]1)[H:13])[N:10]2[C:6]([C:5]([C:7]2([H:18])[H:19])([H:14])[H:15])([H:16])[H:17])[Cl:11]', inchi_key='LQDSDOGLFAZWKS-UHFFFAOYNA-N'), OptimizationResult(type='optimization', record_id=6091336, cmiles='[H:14][c:1]1[c:3]([c:4]([n:11][c:2]([n:10]1)[H:15])[N:12]2[C:8]([C:6]([C:5]([C:7]([C:9]2([H:24])[H:25])([H:20])[H:21])([H:16])[H:17])([H:18])[H:19])([H:22])[H:23])[Cl:13]', inchi_key='VNZFCHDSOXTMKC-UHFFFAOYNA-N'), OptimizationResult(type='optimization', record_id=6091265, cmiles='[H:19][c:1]1[c:2]([c:4]([c:6]([c:5]([c:3]1[H:21])[N:15]2[C:9](=[O:16])[C:7]3=[C:8]([C:10]2=[O:17])[C:12]([C:14]([C:13]([C:11]3([H:23])[H:24])([H:27])[H:28])([H:29])[H:30])([H:25])[H:26])[F:18])[H:22])[H:20]', inchi_key='PINAKBXFAZUJBZ-UHFFFAOYNA-N'), OptimizationResult(type='optimization', record_id=6091454, cmiles='[H:17][c:1]1[c:2]([c:6]([c:10]([c:7]([c:3]1[H:19])[H:23])[C:13](=[O:15])[N:14]([H:26])[c:11]2[c:8]([c:4]([c:5]([c:9]([c:12]2[O:16][H:27])[H:25])[H:21])[H:20])[H:24])[H:22])[H:18]', inchi_key='UYKVWAQEMQDRGG-YHMJCDSINA-N'), OptimizationResult(type='optimization', record_id=6091455, cmiles='[H:17][c:1]1[c:2]([c:6]([c:10]([c:7]([c:3]1[H:19])[H:23])[C:13](=[O:15])[N:14]([H:26])[c:11]2[c:8]([c:4]([c:5]([c:9]([c:12]2[O:16][H:27])[H:25])[H:21])[H:20])[H:24])[H:22])[H:18]', inchi_key='UYKVWAQEMQDRGG-YHMJCDSINA-N')]} provenance={} type='OptimizationResultCollection'\n",
      "entries={'https://api.qcarchive.molssi.org:443/': [TorsionDriveResult(type='torsion', record_id=21272367, cmiles='[H:16][c:1]1[c:2]([c:8]2[c:6]([c:3]([c:7]1[C:12]3=[C:10]([C:9](=[C:11]([O:15]3)[H:23])[H:21])[H:22])[H:18])[c:4]([n:13][c:5]([n:14]2)[H:20])[H:19])[H:17]', inchi_key='VQDKQTXZOFYKGJ-UHFFFAOYNA-N'), TorsionDriveResult(type='torsion', record_id=21272361, cmiles='[H:13][C:1]1=[C:2]([C:8](=[O:12])[N:11]([C:6](=[C:3]1[H:15])[C:7]2=[N:9][C:4](=[C:5]([N:10]2[H:18])[H:17])[H:16])[H:19])[H:14]', inchi_key='ZKHASKWVHRESCJ-FLKJISBTNA-N'), TorsionDriveResult(type='torsion', record_id=21272362, cmiles='[H:14][C:1]1=[C:2]([C:9](=[O:13])[N:11]([C:7](=[C:4]1[H:17])[C:8]2=[C:5]([C:3](=[C:6]([N:12]2[C:10]([H:20])([H:21])[H:22])[H:19])[H:16])[H:18])[H:23])[H:15]', inchi_key='HRRCFWLRKUBONR-WXRBYKJCNA-N'), TorsionDriveResult(type='torsion', record_id=21272422, cmiles='[H:13][C:1]1=[C:2]([C:9](=[O:11])[N:10]([C:7](=[C:4]1[H:16])[C:8]2=[C:5]([C:3](=[C:6]([O:12]2)[H:18])[H:15])[H:17])[H:19])[H:14]', inchi_key='GODUVOSSXJHPKL-KZFATGLANA-N'), TorsionDriveResult(type='torsion', record_id=21272428, cmiles='[H:13][C:1]1=[C:2]([C:9](=[O:11])[N:10]([C:7](=[C:4]1[H:16])[C:8]2=[C:5]([C:3](=[C:6]([S:12]2)[H:18])[H:15])[H:17])[H:19])[H:14]', inchi_key='OYXVCXRBUVWISS-KZFATGLANA-N')]} provenance={} type='TorsionDriveResultCollection'\n"
     ]
    }
   ],
   "source": [
    "from copy import deepcopy\n",
    "\n",
    "from openff.qcsubmit.results import (\n",
    "    BasicResultCollection,\n",
    "    OptimizationResultCollection,\n",
    "    TorsionDriveResultCollection,\n",
    ")\n",
    "\n",
    "\n",
    "def preview_dataset(ds, max_entries=5):\n",
    "    ds = deepcopy(ds)\n",
    "    for key, entry in ds.entries.items():\n",
    "        ds.entries[key] = entry[:max_entries]\n",
    "    print(ds)\n",
    "\n",
    "\n",
    "# Pull down the energy result records from the 'OpenFF BCC Refit Study COH v1.0' dataset.\n",
    "energy_result_collection = BasicResultCollection.from_server(\n",
    "    client=qc_client,\n",
    "    datasets=\"OpenFF BCC Refit Study COH v1.0\",\n",
    "    spec_name=\"spec_2\",  # This used to be \"resp-2-vacuum\", but the spec name was changed in the QCArchive 0.50 migration\n",
    ")\n",
    "preview_dataset(energy_result_collection)\n",
    "\n",
    "# Pull down the optimization records from both the 'OpenFF Gen 2 Opt Set 3 Pfizer Discrepancy' and\n",
    "# 'OpenFF Gen 2 Opt Set 4 eMolecules Discrepancy' datasets.\n",
    "optimization_result_collection = OptimizationResultCollection.from_server(\n",
    "    client=qc_client,\n",
    "    datasets=[\n",
    "        \"OpenFF Gen 2 Opt Set 3 Pfizer Discrepancy\",\n",
    "        \"OpenFF Gen 2 Opt Set 4 eMolecules Discrepancy\",\n",
    "    ],\n",
    "    spec_name=\"default\",\n",
    ")\n",
    "preview_dataset(optimization_result_collection)\n",
    "\n",
    "# Pull down the torsion drive records from the 'OpenFF Rowley Biaryl v1.0' dataset.\n",
    "torsion_drive_result_collection = TorsionDriveResultCollection.from_server(\n",
    "    client=qc_client,\n",
    "    datasets=\"OpenFF Rowley Biaryl v1.0\",\n",
    "    spec_name=\"default\",\n",
    ")\n",
    "preview_dataset(torsion_drive_result_collection)"
   ]
  },
  {
   "cell_type": "markdown",
   "metadata": {
    "pycharm": {
     "name": "#%% md\n"
    }
   },
   "source": [
    "*Note: currently only complete results are pulled down by the `from_server` method*\n",
    "\n",
    "There are two main inputs to the `from_server` method, in addition to the fractal client:\n",
    "\n",
    "* the name(s) of the existing datasets to retrieve the results of. This can either be the name of a single dataset or a list of dataset names\n",
    "* the name of the specification used to compute the records. Each specification corresponds to a particular basis, method, program and additional settings.\n",
    "\n",
    "Let's print out some basic information about each of these result collections:"
   ]
  },
  {
   "cell_type": "code",
   "execution_count": 4,
   "metadata": {
    "pycharm": {
     "name": "#%%\n"
    }
   },
   "outputs": [
    {
     "name": "stdout",
     "output_type": "stream",
     "text": [
      "===HESSIAN RESULTS===\n",
      "N RESULTS:   191\n",
      "N MOLECULES: 91\n",
      "===OPTIMIZATION RESULTS===\n",
      "N RESULTS:   2398\n",
      "N MOLECULES: 419\n",
      "===TORSION DRIVE RESULTS===\n",
      "N RESULTS:   87\n",
      "N MOLECULES: 87\n"
     ]
    }
   ],
   "source": [
    "print(\"===HESSIAN RESULTS===\")\n",
    "\n",
    "print(f\"N RESULTS:   {energy_result_collection.n_results}\")\n",
    "print(f\"N MOLECULES: {energy_result_collection.n_molecules}\")\n",
    "\n",
    "print(\"===OPTIMIZATION RESULTS===\")\n",
    "\n",
    "print(f\"N RESULTS:   {optimization_result_collection.n_results}\")\n",
    "print(f\"N MOLECULES: {optimization_result_collection.n_molecules}\")\n",
    "\n",
    "print(\"===TORSION DRIVE RESULTS===\")\n",
    "\n",
    "print(f\"N RESULTS:   {torsion_drive_result_collection.n_results}\")\n",
    "print(f\"N MOLECULES: {torsion_drive_result_collection.n_molecules}\")"
   ]
  },
  {
   "cell_type": "markdown",
   "metadata": {
    "pycharm": {
     "name": "#%% md\n"
    }
   },
   "source": [
    "We can easily save / load the collections to / from disk:"
   ]
  },
  {
   "cell_type": "code",
   "execution_count": 5,
   "metadata": {
    "pycharm": {
     "name": "#%%\n"
    }
   },
   "outputs": [
    {
     "name": "stdout",
     "output_type": "stream",
     "text": [
      "entries={'https://api.qcarchive.molssi.org:443/': [BasicResult(type='basic', record_id=32651764, cmiles='[H:6][C:1]1([C:2]([C:4]([C:5]([C:3]1([H:10])[H:11])([H:14])[H:15])([H:12])[H:13])([H:8])[H:9])[H:7]', inchi_key='RGSFGYAAUTVSQA-UHFFFAOYNA-N'), BasicResult(type='basic', record_id=32651734, cmiles='[H:7][C:1]1([C:2]([C:4]([C:6]([C:5]([C:3]1([H:11])[H:12])([H:15])[H:16])([H:17])[H:18])([H:13])[H:14])([H:9])[H:10])[H:8]', inchi_key='XDTMQSROBMDMFD-UHFFFAOYNA-N'), BasicResult(type='basic', record_id=32651722, cmiles='[H:7][c:1]1[c:2]([c:4]([c:6]([c:5]([c:3]1[H:9])[H:11])[H:12])[H:10])[H:8]', inchi_key='UHOVQNZJYSORNB-UHFFFAOYNA-N'), BasicResult(type='basic', record_id=32651809, cmiles='[H:11][c:1]1[c:2]([c:4]([c:6]([c:5]([c:3]1[H:13])[H:15])[C:7]([H:16])([H:17])[C:8]([H:18])([H:19])[C:9]([H:20])([H:21])[O:10][H:22])[H:14])[H:12]', inchi_key='VAJVDSVGBWFCLW-UHFFFAOYNA-N'), BasicResult(type='basic', record_id=32651781, cmiles='[H:11][c:1]1[c:2]([c:4]([c:6]([c:5]([c:3]1[H:13])[H:15])[C:7]([H:16])([H:17])[C:8]([H:18])([H:19])[C:9]([H:20])([H:21])[O:10][H:22])[H:14])[H:12]', inchi_key='VAJVDSVGBWFCLW-UHFFFAOYNA-N')]} provenance={} type='BasicResultCollection'\n"
     ]
    }
   ],
   "source": [
    "# save the energy result collection to a JSON file\n",
    "with open(\"energy-result-collection.json\", \"w\") as file:\n",
    "    file.write(energy_result_collection.json())\n",
    "\n",
    "# re-load the serialized result collection\n",
    "preview_dataset(BasicResultCollection.parse_file(\"energy-result-collection.json\"))"
   ]
  },
  {
   "cell_type": "markdown",
   "metadata": {
    "pycharm": {
     "name": "#%% md\n"
    }
   },
   "source": [
    "Each of these collections will store the referenced results in their `entries` dictionary. This dictionary uses the\n",
    "address of the QCFractal server as keys:"
   ]
  },
  {
   "cell_type": "code",
   "execution_count": 6,
   "metadata": {
    "pycharm": {
     "name": "#%%\n"
    }
   },
   "outputs": [
    {
     "data": {
      "text/plain": [
       "dict_keys(['https://api.qcarchive.molssi.org:443/'])"
      ]
     },
     "execution_count": 6,
     "metadata": {},
     "output_type": "execute_result"
    }
   ],
   "source": [
    "torsion_drive_result_collection.entries.keys()"
   ]
  },
  {
   "cell_type": "markdown",
   "metadata": {
    "pycharm": {
     "name": "#%% md\n"
    }
   },
   "source": [
    "This allows results generated by multiple different servers (e.g. a local fractal instance and the public QCArchive\n",
    "server) to be stored in a single result collection object.\n",
    "\n",
    "The references to the actual data are then stored in corresponding lists:"
   ]
  },
  {
   "cell_type": "code",
   "execution_count": 7,
   "metadata": {
    "pycharm": {
     "name": "#%%\n"
    }
   },
   "outputs": [
    {
     "data": {
      "text/plain": [
       "[TorsionDriveResult(type='torsion', record_id=21272367, cmiles='[H:16][c:1]1[c:2]([c:8]2[c:6]([c:3]([c:7]1[C:12]3=[C:10]([C:9](=[C:11]([O:15]3)[H:23])[H:21])[H:22])[H:18])[c:4]([n:13][c:5]([n:14]2)[H:20])[H:19])[H:17]', inchi_key='VQDKQTXZOFYKGJ-UHFFFAOYNA-N'),\n",
       " TorsionDriveResult(type='torsion', record_id=21272361, cmiles='[H:13][C:1]1=[C:2]([C:8](=[O:12])[N:11]([C:6](=[C:3]1[H:15])[C:7]2=[N:9][C:4](=[C:5]([N:10]2[H:18])[H:17])[H:16])[H:19])[H:14]', inchi_key='ZKHASKWVHRESCJ-FLKJISBTNA-N'),\n",
       " TorsionDriveResult(type='torsion', record_id=21272362, cmiles='[H:14][C:1]1=[C:2]([C:9](=[O:13])[N:11]([C:7](=[C:4]1[H:17])[C:8]2=[C:5]([C:3](=[C:6]([N:12]2[C:10]([H:20])([H:21])[H:22])[H:19])[H:16])[H:18])[H:23])[H:15]', inchi_key='HRRCFWLRKUBONR-WXRBYKJCNA-N'),\n",
       " TorsionDriveResult(type='torsion', record_id=21272422, cmiles='[H:13][C:1]1=[C:2]([C:9](=[O:11])[N:10]([C:7](=[C:4]1[H:16])[C:8]2=[C:5]([C:3](=[C:6]([O:12]2)[H:18])[H:15])[H:17])[H:19])[H:14]', inchi_key='GODUVOSSXJHPKL-KZFATGLANA-N'),\n",
       " TorsionDriveResult(type='torsion', record_id=21272428, cmiles='[H:13][C:1]1=[C:2]([C:9](=[O:11])[N:10]([C:7](=[C:4]1[H:16])[C:8]2=[C:5]([C:3](=[C:6]([S:12]2)[H:18])[H:15])[H:17])[H:19])[H:14]', inchi_key='OYXVCXRBUVWISS-KZFATGLANA-N'),\n",
       " TorsionDriveResult(type='torsion', record_id=21272424, cmiles='[H:13][C:1]1=[C:2]([C:9](=[O:12])[N:10]([C:8](=[C:5]1[H:17])[N:11]2[C:6](=[C:3]([C:4](=[C:7]2[H:19])[H:16])[H:15])[H:18])[H:20])[H:14]', inchi_key='BRVTWSQOXUDDPJ-KZFATGLANA-N'),\n",
       " TorsionDriveResult(type='torsion', record_id=21272429, cmiles='[H:13][C:1]1=[C:2]([C:9](=[O:12])[N:11]([C:8](=[C:4]1[H:16])[C:7]2=[C:5]([C:3](=[C:6]([N:10]2[H:19])[H:18])[H:15])[H:17])[H:20])[H:14]', inchi_key='OEXWTBSLUTZTHL-WXRBYKJCNA-N'),\n",
       " TorsionDriveResult(type='torsion', record_id=21272432, cmiles='[H:13][C:1]1=[C:2]([C:9](=[O:11])[N:10]([C:8](=[C:3]1[H:15])[C:7]2=[C:6]([O:12][C:5](=[C:4]2[H:16])[H:17])[H:18])[H:19])[H:14]', inchi_key='KCBAOFOKUAYWRY-KZFATGLANA-N'),\n",
       " TorsionDriveResult(type='torsion', record_id=21272425, cmiles='[H:13][C:1]1=[C:2]([C:9](=[O:11])[N:10]([C:8](=[C:3]1[H:15])[C:7]2=[C:6]([S:12][C:5](=[C:4]2[H:16])[H:17])[H:18])[H:19])[H:14]', inchi_key='VVVKIXJOGFLACL-KZFATGLANA-N'),\n",
       " TorsionDriveResult(type='torsion', record_id=21272382, cmiles='[H:12][c:1]1[c:2]([c:5]([c:4]([n:9][c:3]1[H:14])[H:15])[C:8]2=[C:6]([N:11]([N:10]=[C:7]2[H:17])[H:18])[H:16])[H:13]', inchi_key='KFDSXKNTZIGCHU-KZFATGLANA-N')]"
      ]
     },
     "execution_count": 7,
     "metadata": {},
     "output_type": "execute_result"
    }
   ],
   "source": [
    "torsion_drive_result_collection.entries[qc_client.address][:10]"
   ]
  },
  {
   "cell_type": "markdown",
   "metadata": {
    "pycharm": {
     "name": "#%% md\n"
    }
   },
   "source": [
    "After running the above command, notice that the entries stored in the collection are not the actual result\n",
    "records generated and stored on the server, but rather a reference to them. In particular, the unique ID of the record is stored along with a SMILES depiction of the molecule the result was generated for.\n",
    "\n",
    "The main reason for doing this is that we often would like to be able to state which data we would like to use in\n",
    "an application without having to create multiple copies of the data. Not only can this take up large amounts of disk space, it runs the risk of data becoming out of sync with the original if the format the records are stored in changes or the local copy of the data is accidentally mutated. Storing a reference to the original data and then retrieving it when needed is typically a cleaner and safer solution.\n",
    "\n",
    "## Retrieving the result records\n",
    "\n",
    "The raw result record objects can be easily retrieved using the result collection objects:"
   ]
  },
  {
   "cell_type": "code",
   "execution_count": 8,
   "metadata": {
    "pycharm": {
     "name": "#%%\n"
    }
   },
   "outputs": [
    {
     "data": {
      "text/plain": [
       "[(TorsiondriveRecord(id=21272367, record_type='torsiondrive', is_service=True, properties={}, extras={}, status=<RecordStatusEnum.complete: 'complete'>, manager_name=None, created_on=datetime.datetime(2020, 7, 21, 16, 42, 25, 709146, tzinfo=datetime.timezone.utc), modified_on=datetime.datetime(2020, 7, 21, 16, 42, 25, 709145, tzinfo=datetime.timezone.utc), owner_user=None, owner_group=None, compute_history_=None, task_=None, service_=None, comments_=None, native_files_=None, specification=TorsiondriveSpecification(program='torsiondrive', optimization_specification=OptimizationSpecification(program='geometric', qc_specification=QCSpecification(program='psi4', driver=<SinglepointDriver.deferred: 'deferred'>, method='b3lyp-d3bj', basis='dzvp', keywords={'maxiter': 200, 'scf_properties': ['dipole', 'quadrupole', 'wiberg_lowdin_indices', 'mayer_indices']}, protocols=AtomicResultProtocols(wavefunction=<WavefunctionProtocolEnum.none: 'none'>, stdout=True, error_correction=ErrorCorrectionProtocol(default_policy=True, policies=None), native_files=<NativeFilesProtocolEnum.none: 'none'>)), keywords={'tmax': 0.3, 'check': 0, 'qccnv': True, 'reset': True, 'trust': 0.1, 'molcnv': False, 'enforce': 0.1, 'epsilon': 0, 'maxiter': 300, 'coordsys': 'tric', 'convergence_set': 'gau'}, protocols=OptimizationProtocols(trajectory=<TrajectoryProtocolEnum.all: 'all'>)), keywords=TorsiondriveKeywords(dihedrals=[(0, 6, 11, 14)], grid_spacing=[15], dihedral_ranges=None, energy_decrease_thresh=None, energy_upper_limit=0.05)), initial_molecules_ids_=None, initial_molecules_=None, optimizations_=None, minimum_optimizations_={'[0]': 21274152, '[15]': 21320903, '[30]': 21324390, '[45]': 21328551, '[60]': 21360439, '[75]': 21361004, '[90]': 21361472, '[-15]': 21320833, '[-30]': 21324389, '[-45]': 21328550, '[-60]': 21324388, '[-75]': 21328549, '[-90]': 21361471, '[105]': 21361005, '[120]': 21361473, '[135]': 21375288, '[150]': 21362939, '[165]': 21375289, '[180]': 21406971, '[-105]': 21362109, '[-120]': 21361470, '[-135]': 21362108, '[-150]': 21362799, '[-165]': 21409938}),\n",
       "  Molecule with name '' and SMILES '[H]c1c(c2c(c(c1C3=C(C(=C(O3)[H])[H])[H])[H])c(nc(n2)[H])[H])[H]'),\n",
       " (TorsiondriveRecord(id=21272361, record_type='torsiondrive', is_service=True, properties={}, extras={}, status=<RecordStatusEnum.complete: 'complete'>, manager_name=None, created_on=datetime.datetime(2020, 7, 21, 16, 42, 24, 673961, tzinfo=datetime.timezone.utc), modified_on=datetime.datetime(2020, 7, 21, 16, 42, 24, 673959, tzinfo=datetime.timezone.utc), owner_user=None, owner_group=None, compute_history_=None, task_=None, service_=None, comments_=None, native_files_=None, specification=TorsiondriveSpecification(program='torsiondrive', optimization_specification=OptimizationSpecification(program='geometric', qc_specification=QCSpecification(program='psi4', driver=<SinglepointDriver.deferred: 'deferred'>, method='b3lyp-d3bj', basis='dzvp', keywords={'maxiter': 200, 'scf_properties': ['dipole', 'quadrupole', 'wiberg_lowdin_indices', 'mayer_indices']}, protocols=AtomicResultProtocols(wavefunction=<WavefunctionProtocolEnum.none: 'none'>, stdout=True, error_correction=ErrorCorrectionProtocol(default_policy=True, policies=None), native_files=<NativeFilesProtocolEnum.none: 'none'>)), keywords={'tmax': 0.3, 'check': 0, 'qccnv': True, 'reset': True, 'trust': 0.1, 'molcnv': False, 'enforce': 0.1, 'epsilon': 0, 'maxiter': 300, 'coordsys': 'tric', 'convergence_set': 'gau'}, protocols=OptimizationProtocols(trajectory=<TrajectoryProtocolEnum.all: 'all'>)), keywords=TorsiondriveKeywords(dihedrals=[(10, 5, 6, 8)], grid_spacing=[15], dihedral_ranges=None, energy_decrease_thresh=None, energy_upper_limit=0.05)), initial_molecules_ids_=None, initial_molecules_=None, optimizations_=None, minimum_optimizations_={'[0]': 21359040, '[15]': 21356947, '[30]': 21357728, '[45]': 21353916, '[60]': 21355573, '[75]': 21353917, '[90]': 21346570, '[-15]': 21359371, '[-30]': 21359038, '[-45]': 21358234, '[-60]': 21359037, '[-75]': 21358233, '[-90]': 21357725, '[105]': 21348925, '[120]': 21274797, '[135]': 21272670, '[150]': 21272449, '[165]': 21272671, '[180]': 21346593, '[-105]': 21356945, '[-120]': 21350907, '[-135]': 21353914, '[-150]': 21346569, '[-165]': 21344548}),\n",
       "  Molecule with name '' and SMILES '[H]C1=C(C(=O)N(C(=C1[H])C2=NC(=C(N2[H])[H])[H])[H])[H]'),\n",
       " (TorsiondriveRecord(id=21272362, record_type='torsiondrive', is_service=True, properties={}, extras={}, status=<RecordStatusEnum.complete: 'complete'>, manager_name=None, created_on=datetime.datetime(2020, 7, 21, 16, 42, 24, 824865, tzinfo=datetime.timezone.utc), modified_on=datetime.datetime(2020, 7, 21, 16, 42, 24, 824864, tzinfo=datetime.timezone.utc), owner_user=None, owner_group=None, compute_history_=None, task_=None, service_=None, comments_=None, native_files_=None, specification=TorsiondriveSpecification(program='torsiondrive', optimization_specification=OptimizationSpecification(program='geometric', qc_specification=QCSpecification(program='psi4', driver=<SinglepointDriver.deferred: 'deferred'>, method='b3lyp-d3bj', basis='dzvp', keywords={'maxiter': 200, 'scf_properties': ['dipole', 'quadrupole', 'wiberg_lowdin_indices', 'mayer_indices']}, protocols=AtomicResultProtocols(wavefunction=<WavefunctionProtocolEnum.none: 'none'>, stdout=True, error_correction=ErrorCorrectionProtocol(default_policy=True, policies=None), native_files=<NativeFilesProtocolEnum.none: 'none'>)), keywords={'tmax': 0.3, 'check': 0, 'qccnv': True, 'reset': True, 'trust': 0.1, 'molcnv': False, 'enforce': 0.1, 'epsilon': 0, 'maxiter': 300, 'coordsys': 'tric', 'convergence_set': 'gau'}, protocols=OptimizationProtocols(trajectory=<TrajectoryProtocolEnum.all: 'all'>)), keywords=TorsiondriveKeywords(dihedrals=[(10, 6, 7, 11)], grid_spacing=[15], dihedral_ranges=None, energy_decrease_thresh=None, energy_upper_limit=0.05)), initial_molecules_ids_=None, initial_molecules_=None, optimizations_=None, minimum_optimizations_={'[0]': 21344327, '[15]': 21341333, '[30]': 21344329, '[45]': 21346108, '[60]': 21347926, '[75]': 21346109, '[90]': 21347943, '[-15]': 21341332, '[-30]': 21328164, '[-45]': 21323590, '[-60]': 21272450, '[-75]': 21272709, '[-90]': 21284985, '[105]': 21323596, '[120]': 21328168, '[135]': 21341336, '[150]': 21328169, '[165]': 21341337, '[180]': 21344332, '[-105]': 21346107, '[-120]': 21347924, '[-135]': 21341330, '[-150]': 21344325, '[-165]': 21346104}),\n",
       "  Molecule with name '' and SMILES '[H]C1=C(C(=O)N(C(=C1[H])C2=C(C(=C(N2C([H])([H])[H])[H])[H])[H])[H])[H]'),\n",
       " (TorsiondriveRecord(id=21272422, record_type='torsiondrive', is_service=True, properties={}, extras={}, status=<RecordStatusEnum.complete: 'complete'>, manager_name=None, created_on=datetime.datetime(2020, 7, 21, 16, 42, 34, 959088, tzinfo=datetime.timezone.utc), modified_on=datetime.datetime(2020, 7, 21, 16, 42, 34, 959086, tzinfo=datetime.timezone.utc), owner_user=None, owner_group=None, compute_history_=None, task_=None, service_=None, comments_=None, native_files_=None, specification=TorsiondriveSpecification(program='torsiondrive', optimization_specification=OptimizationSpecification(program='geometric', qc_specification=QCSpecification(program='psi4', driver=<SinglepointDriver.deferred: 'deferred'>, method='b3lyp-d3bj', basis='dzvp', keywords={'maxiter': 200, 'scf_properties': ['dipole', 'quadrupole', 'wiberg_lowdin_indices', 'mayer_indices']}, protocols=AtomicResultProtocols(wavefunction=<WavefunctionProtocolEnum.none: 'none'>, stdout=True, error_correction=ErrorCorrectionProtocol(default_policy=True, policies=None), native_files=<NativeFilesProtocolEnum.none: 'none'>)), keywords={'tmax': 0.3, 'check': 0, 'qccnv': True, 'reset': True, 'trust': 0.1, 'molcnv': False, 'enforce': 0.1, 'epsilon': 0, 'maxiter': 300, 'coordsys': 'tric', 'convergence_set': 'gau'}, protocols=OptimizationProtocols(trajectory=<TrajectoryProtocolEnum.all: 'all'>)), keywords=TorsiondriveKeywords(dihedrals=[(9, 6, 7, 11)], grid_spacing=[15], dihedral_ranges=None, energy_decrease_thresh=None, energy_upper_limit=0.05)), initial_molecules_ids_=None, initial_molecules_=None, optimizations_=None, minimum_optimizations_={'[0]': 21272514, '[15]': 21326804, '[30]': 21330838, '[45]': 21345058, '[60]': 21330839, '[75]': 21345059, '[90]': 21347501, '[-15]': 21326803, '[-30]': 21330837, '[-45]': 21345057, '[-60]': 21330836, '[-75]': 21345056, '[-90]': 21347497, '[105]': 21345060, '[120]': 21347502, '[135]': 21326806, '[150]': 21330841, '[165]': 21273592, '[180]': 21272515, '[-105]': 21345055, '[-120]': 21330835, '[-135]': 21345054, '[-150]': 21330834, '[-165]': 21273589}),\n",
       "  Molecule with name '' and SMILES '[H]C1=C(C(=O)N(C(=C1[H])C2=C(C(=C(O2)[H])[H])[H])[H])[H]'),\n",
       " (TorsiondriveRecord(id=21272428, record_type='torsiondrive', is_service=True, properties={}, extras={}, status=<RecordStatusEnum.complete: 'complete'>, manager_name=None, created_on=datetime.datetime(2020, 7, 21, 16, 42, 35, 872352, tzinfo=datetime.timezone.utc), modified_on=datetime.datetime(2020, 7, 21, 16, 42, 35, 872350, tzinfo=datetime.timezone.utc), owner_user=None, owner_group=None, compute_history_=None, task_=None, service_=None, comments_=None, native_files_=None, specification=TorsiondriveSpecification(program='torsiondrive', optimization_specification=OptimizationSpecification(program='geometric', qc_specification=QCSpecification(program='psi4', driver=<SinglepointDriver.deferred: 'deferred'>, method='b3lyp-d3bj', basis='dzvp', keywords={'maxiter': 200, 'scf_properties': ['dipole', 'quadrupole', 'wiberg_lowdin_indices', 'mayer_indices']}, protocols=AtomicResultProtocols(wavefunction=<WavefunctionProtocolEnum.none: 'none'>, stdout=True, error_correction=ErrorCorrectionProtocol(default_policy=True, policies=None), native_files=<NativeFilesProtocolEnum.none: 'none'>)), keywords={'tmax': 0.3, 'check': 0, 'qccnv': True, 'reset': True, 'trust': 0.1, 'molcnv': False, 'enforce': 0.1, 'epsilon': 0, 'maxiter': 300, 'coordsys': 'tric', 'convergence_set': 'gau'}, protocols=OptimizationProtocols(trajectory=<TrajectoryProtocolEnum.all: 'all'>)), keywords=TorsiondriveKeywords(dihedrals=[(9, 6, 7, 11)], grid_spacing=[15], dihedral_ranges=None, energy_decrease_thresh=None, energy_upper_limit=0.05)), initial_molecules_ids_=None, initial_molecules_=None, optimizations_=None, minimum_optimizations_={'[0]': 21319609, '[15]': 21323730, '[30]': 21361926, '[45]': 21361442, '[60]': 21361927, '[75]': 21361443, '[90]': 21361929, '[-15]': 21273639, '[-30]': 21319594, '[-45]': 21323728, '[-60]': 21344588, '[-75]': 21361440, '[-90]': 21344587, '[105]': 21323731, '[120]': 21344592, '[135]': 21323732, '[150]': 21272523, '[165]': 21273641, '[180]': 21319613, '[-105]': 21362329, '[-120]': 21361923, '[-135]': 21361438, '[-150]': 21344586, '[-165]': 21361437}),\n",
       "  Molecule with name '' and SMILES '[H]C1=C(C(=O)N(C(=C1[H])C2=C(C(=C(S2)[H])[H])[H])[H])[H]')]"
      ]
     },
     "execution_count": 8,
     "metadata": {},
     "output_type": "execute_result"
    }
   ],
   "source": [
    "torsion_drive_records = torsion_drive_result_collection.to_records()\n",
    "torsion_drive_records[:5]"
   ]
  },
  {
   "cell_type": "markdown",
   "metadata": {
    "pycharm": {
     "name": "#%% md\n"
    }
   },
   "source": [
    "QCSubmit seamlessly takes care of pulling the data from the server in the most efficient way making sure to take\n",
    "advantage of the pagination that QCFractal provides. Further, it attempts to cache all calls to the server so that\n",
    "multiple calls to `to_records` does not need to constantly query the server.\n",
    "\n",
    "Notice that not only are the raw result records retrieved, but also an OpenFF `Molecule` object is created for each result record. This molecule has the correct ordering and also stores any conformers associated with the\n",
    "result collection. For basic collections, the conformer is the one that was used in any calculations; for optimization collections, it is the final conformer yielded by the optimization; and for torsion drives, it is the lowest energy conformer for each sampled torsion angle.\n",
    "\n",
    "In the case of torsion drive records, we can easily iterate over the grid ID, the associated conformer, and the\n",
    "associated energy in one go:"
   ]
  },
  {
   "cell_type": "code",
   "execution_count": 9,
   "metadata": {
    "pycharm": {
     "name": "#%%\n"
    }
   },
   "outputs": [
    {
     "name": "stdout",
     "output_type": "stream",
     "text": [
      "(-165,) E=-646.9155 Ha\n",
      "(-150,) E=-646.9142 Ha\n",
      "(-135,) E=-646.9120 Ha\n",
      "(-120,) E=-646.9095 Ha\n",
      "(-105,) E=-646.9073 Ha\n",
      "(-90,) E=-646.9066 Ha\n",
      "(-75,) E=-646.9077 Ha\n",
      "(-60,) E=-646.9099 Ha\n",
      "(-45,) E=-646.9123 Ha\n",
      "(-30,) E=-646.9140 Ha\n",
      "(-15,) E=-646.9149 Ha\n",
      "(0,) E=-646.9151 Ha\n",
      "(15,) E=-646.9149 Ha\n",
      "(30,) E=-646.9140 Ha\n",
      "(45,) E=-646.9123 Ha\n",
      "(60,) E=-646.9099 Ha\n",
      "(75,) E=-646.9077 Ha\n",
      "(90,) E=-646.9066 Ha\n",
      "(105,) E=-646.9073 Ha\n",
      "(120,) E=-646.9095 Ha\n",
      "(135,) E=-646.9120 Ha\n",
      "(150,) E=-646.9142 Ha\n",
      "(165,) E=-646.9155 Ha\n",
      "(180,) E=-646.9158 Ha\n"
     ]
    }
   ],
   "source": [
    "torsion_drive_record, molecule = torsion_drive_records[0]\n",
    "for grid_id, qc_conformer in zip(molecule.properties[\"grid_ids\"], molecule.conformers):\n",
    "    qc_energy = torsion_drive_record.final_energies[grid_id]\n",
    "\n",
    "    print(f\"{grid_id} E={qc_energy:.4f} Ha\")"
   ]
  },
  {
   "cell_type": "markdown",
   "metadata": {
    "pycharm": {
     "name": "#%% md\n"
    }
   },
   "source": [
    "We can also directly visualize the torsion drive using the built-in OpenFF Toolkit utilities using the\n",
    "`molecule.visualize(\"nglview\")` function.\n",
    "\n",
    "### Basic results from optimization results\n",
    "\n",
    "It is common for certain datasets within a QCFractal server to be created using the output of another dataset. This is especially the case for datasets of hessian records that are computed using the conformer produced by an optimization.\n",
    "\n",
    "The `OptimizationResultCollection` currently provides a `to_basic_result_collection` method to handle such cases. This can take some time to run:"
   ]
  },
  {
   "cell_type": "code",
   "execution_count": 10,
   "metadata": {
    "pycharm": {
     "name": "#%%\n"
    }
   },
   "outputs": [
    {
     "data": {
      "text/plain": [
       "2378"
      ]
     },
     "execution_count": 10,
     "metadata": {},
     "output_type": "execute_result"
    }
   ],
   "source": [
    "derived_hessian_collection = optimization_result_collection.to_basic_result_collection(\n",
    "    driver=\"hessian\"\n",
    ")\n",
    "derived_hessian_collection.n_results"
   ]
  },
  {
   "cell_type": "markdown",
   "metadata": {
    "pycharm": {
     "name": "#%% md\n"
    }
   },
   "source": [
    "This is a particularly useful way to access hessian data contained within older datasets. Older datasets do not usually\n",
    "store SMILES information for their result records, and hence it can be difficult to know exactly which molecule the\n",
    "hessian was computed for. The `to_basic_result_collection` method takes care of this by propagating SMILES information\n",
    "from the parent optimization record down to the child hessian result record.\n",
    "\n",
    "In addition to retrieving already computed datasets, the optimization result collection provides a utility for\n",
    "generating a new QC dataset based on the optimized conformers:"
   ]
  },
  {
   "cell_type": "code",
   "execution_count": 11,
   "metadata": {
    "pycharm": {
     "name": "#%%\n"
    }
   },
   "outputs": [],
   "source": [
    "from qcportal.singlepoint import SinglepointDriver\n",
    "\n",
    "hessian_dataset = optimization_result_collection.create_basic_dataset(\n",
    "    dataset_name=\"My Dataset\",\n",
    "    description=\"A dataset created from an optimization result collection.\",\n",
    "    tagline=\"Contains hessian data.\",\n",
    "    driver=SinglepointDriver.hessian,\n",
    ")"
   ]
  },
  {
   "cell_type": "markdown",
   "metadata": {
    "pycharm": {
     "name": "#%% md\n"
    }
   },
   "source": [
    "The resulting dataset can then be submitted to a running QCFractal server.\n",
    "\n",
    "## Filtering result collections\n",
    "\n",
    "A powerful feature of the result collections is the ability to easily filter the entries it contains using a diverse\n",
    "range of filters, such as filtering out specific molecules based on SMILES patterns, records where the\n",
    "connectivity of the molecule changed during the optimization, or much more!\n",
    "\n",
    "The built-in filters are stored in the `openff.qcsubmit.results.filters` module:"
   ]
  },
  {
   "cell_type": "code",
   "execution_count": 12,
   "metadata": {
    "pycharm": {
     "name": "#%%\n"
    }
   },
   "outputs": [],
   "source": [
    "from openff.qcsubmit.results import filters"
   ]
  },
  {
   "cell_type": "markdown",
   "metadata": {
    "pycharm": {
     "name": "#%% md\n"
    }
   },
   "source": [
    "Let's apply some basic filters to our optimization collection:"
   ]
  },
  {
   "cell_type": "code",
   "execution_count": 13,
   "metadata": {
    "pycharm": {
     "name": "#%%\n"
    }
   },
   "outputs": [
    {
     "name": "stdout",
     "output_type": "stream",
     "text": [
      "===========\n",
      "N RECORDS INITIAL: 2398\n",
      "N RECORDS FINAL:   1567\n",
      "N MOLECULES INITIAL: 419\n",
      "N MOLECULES FINAL:   419\n",
      "===========\n"
     ]
    }
   ],
   "source": [
    "from qcportal.record_models import RecordStatusEnum\n",
    "\n",
    "filtered_collection = optimization_result_collection.filter(\n",
    "    filters.RecordStatusFilter(status=RecordStatusEnum.complete),\n",
    "    filters.ConnectivityFilter(tolerance=1.2),\n",
    "    filters.ElementFilter(\n",
    "        # The elements supported by OpenFF 1.3.0\n",
    "        allowed_elements=[\"H\", \"C\", \"N\", \"O\", \"S\", \"P\", \"F\", \"Cl\", \"Br\", \"I\"]\n",
    "    ),\n",
    "    filters.ConformerRMSDFilter(max_conformers=10),\n",
    ")\n",
    "\n",
    "print(\"===========\")\n",
    "print(f\"N RECORDS INITIAL: {optimization_result_collection.n_results}\")\n",
    "print(f\"N RECORDS FINAL:   {filtered_collection.n_results}\")\n",
    "\n",
    "print(f\"N MOLECULES INITIAL: {optimization_result_collection.n_molecules}\")\n",
    "print(f\"N MOLECULES FINAL:   {filtered_collection.n_molecules}\")\n",
    "print(\"===========\")"
   ]
  },
  {
   "cell_type": "markdown",
   "metadata": {
    "pycharm": {
     "name": "#%% md\n"
    }
   },
   "source": [
    "Here we have removed:\n",
    "\n",
    "* any incomplete records using the `RecordStatusFilter`\n",
    "\n",
    "* records whose whereby a connectivity during the computation, e.g. a proton transfer occurred\n",
    "  using the `ConnectivityFilter`\n",
    "\n",
    "* records that were computed for molecules composed of elements that are not supported by the current\n",
    "  OpenFF force fields\n",
    "\n",
    "and finally, a `ConformerRMSDFilter` was applied. When a collection contains multiple optimized conformers for the\n",
    "same molecule, the `ConformerRMSDFilter` will only retain up to a maximum number of conformers for that molecule that\n",
    "are distinct to within a specified RMSD tolerance.\n",
    "\n",
    "We could have also made use of the `LowestEnergyFilter` to only retain the lowest energy conformer associated with each\n",
    "unique molecule in the collection.\n",
    "\n",
    "The filtered result collection will record provenance information about which filters were applied:"
   ]
  },
  {
   "cell_type": "code",
   "execution_count": 14,
   "metadata": {
    "pycharm": {
     "name": "#%%\n"
    }
   },
   "outputs": [
    {
     "data": {
      "text/plain": [
       "{'applied-filters': {'RecordStatusFilter-0': {'status': <RecordStatusEnum.complete: 'complete'>},\n",
       "  'ConnectivityFilter-1': {'tolerance': 1.2},\n",
       "  'ElementFilter-2': {'allowed_elements': ['H',\n",
       "    'C',\n",
       "    'N',\n",
       "    'O',\n",
       "    'S',\n",
       "    'P',\n",
       "    'F',\n",
       "    'Cl',\n",
       "    'Br',\n",
       "    'I']},\n",
       "  'ConformerRMSDFilter-3': {'max_conformers': 10,\n",
       "   'rmsd_tolerance': 0.5,\n",
       "   'heavy_atoms_only': True,\n",
       "   'check_automorphs': True}}}"
      ]
     },
     "execution_count": 14,
     "metadata": {},
     "output_type": "execute_result"
    }
   ],
   "source": [
    "filtered_collection.provenance"
   ]
  },
  {
   "cell_type": "markdown",
   "metadata": {
    "pycharm": {
     "name": "#%% md\n"
    }
   },
   "source": [
    "## Additional utilities\n",
    "\n",
    "In addition to providing an interface for curating collections of QC results, the result collection objects also expose\n",
    "a number of quality of life utilities for visualizing and analysing the stored results.\n",
    "\n",
    "A pdf showing the molecules within a result collection can be easily generated:"
   ]
  },
  {
   "cell_type": "code",
   "execution_count": 15,
   "metadata": {
    "pycharm": {
     "name": "#%%\n"
    }
   },
   "outputs": [],
   "source": [
    "from openff.toolkit import Molecule\n",
    "\n",
    "from openff.qcsubmit.utils.visualize import molecules_to_pdf\n",
    "\n",
    "# We filter by inchi key to make sure that we don't double count molecules\n",
    "# with different orderings.\n",
    "unique_smiles = set(\n",
    "    {\n",
    "        entry.inchi_key: entry.cmiles\n",
    "        for entries in energy_result_collection.entries.values()\n",
    "        for entry in entries\n",
    "    }.values()\n",
    ")\n",
    "\n",
    "molecules = [\n",
    "    Molecule.from_mapped_smiles(smiles, allow_undefined_stereo=True)\n",
    "    for smiles in unique_smiles\n",
    "]\n",
    "\n",
    "molecules_to_pdf(molecules, \"energy-result-collection.pdf\", columns=8)"
   ]
  },
  {
   "cell_type": "markdown",
   "metadata": {
    "pycharm": {
     "name": "#%% md\n"
    }
   },
   "source": [
    "## Cached queries\n",
    "\n",
    "If you provided the `cache_dir` argument to your `PortalClient` initially, providing the same `cache_dir` to future clients\n",
    "allows them to share the underlying SQLite cache. This `socket.socket` trick temporarily disables access to the network\n",
    "just to demonstrate that the new calls to `get_dataset` and `BasicResultCollection.from_datasets` can be performed\n",
    "without new requests to QCArchive."
   ]
  },
  {
   "cell_type": "code",
   "execution_count": 16,
   "metadata": {},
   "outputs": [],
   "source": [
    "client = PortalClient(\"https://api.qcarchive.molssi.org:443\", cache_dir=\".\")\n",
    "\n",
    "import socket\n",
    "\n",
    "\n",
    "def guard(*args, **kwargs):\n",
    "    raise Exception(\"I told you not to use the Internet!\")\n",
    "\n",
    "\n",
    "old_socket = socket.socket\n",
    "socket.socket = guard\n",
    "\n",
    "ds = client.get_dataset(\"singlepoint\", \"OpenFF BCC Refit Study COH v1.0\")\n",
    "erc = BasicResultCollection.from_datasets([ds], \"spec_2\")\n",
    "assert erc.n_results == energy_result_collection.n_results\n",
    "\n",
    "socket.socket = old_socket"
   ]
  }
 ],
 "metadata": {
  "kernelspec": {
   "display_name": "Python 3 (ipykernel)",
   "language": "python",
   "name": "python3"
  },
  "language_info": {
   "codemirror_mode": {
    "name": "ipython",
    "version": 3
   },
   "file_extension": ".py",
   "mimetype": "text/x-python",
   "name": "python",
   "nbconvert_exporter": "python",
   "pygments_lexer": "ipython3",
   "version": "3.11.9"
  }
 },
 "nbformat": 4,
 "nbformat_minor": 4
}
