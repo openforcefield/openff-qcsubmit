{
 "cells": [
  {
   "cell_type": "markdown",
   "metadata": {},
   "source": [
    "# Creating Datasets\n",
    "\n",
    "This example shows how QCSubmit can be used to curate [QCFractal]-compatible datasets that can be submitted to any fractals instance, such as [QCArchive].\n",
    "\n",
    "[QCFractal]: http://docs.qcarchive.molssi.org/projects/qcfractal/en/latest/\n",
    "[QCArchive]: https://qcarchive.molssi.org/\n",
    "\n",
    "In particular, it shows how the framework can be used to define reproducible workflows for curating datasets by\n",
    "processing large lists of molecules. The API makes it easy to include operations like filtering, state enumeration, and fragmentation in these workflows. Further, we will demonstrate how such a workflow can be exported to a settings file that can then be used to reconstruct the entire workflow by another user.\n",
    "\n",
    "For the sake of clarity all verbose warnings will be disabled in this tutorial:"
   ]
  },
  {
   "cell_type": "code",
   "execution_count": 1,
   "metadata": {
    "pycharm": {
     "name": "#%%\n"
    }
   },
   "outputs": [],
   "source": [
    "import warnings\n",
    "warnings.filterwarnings('ignore')\n",
    "import logging\n",
    "logging.getLogger(\"openff.toolkit\").setLevel(logging.ERROR)"
   ]
  },
  {
   "cell_type": "markdown",
   "metadata": {
    "pycharm": {
     "name": "#%% md\n"
    }
   },
   "source": [
    "## Creating a dataset factory\n",
    "\n",
    "The `openff-qcsubmit` package provides a number of dataset 'factories'. A factory is a reusable object that encodes all the core settings that will be used to curate / compute a dataset from an input list of molecule.\n",
    "\n",
    "Here we will begin by creating a 'basic' data set factory:"
   ]
  },
  {
   "cell_type": "code",
   "execution_count": 1,
   "metadata": {
    "pycharm": {
     "name": "#%% \n"
    }
   },
   "outputs": [
    {
     "data": {
      "text/plain": [
       "BasicDatasetFactory(qc_specifications={'default': QCSpec(method='B3LYP-D3BJ', basis='DZVP', program='psi4', spec_name='default', spec_description='Standard OpenFF optimization quantum chemistry specification.', store_wavefunction=<WavefunctionProtocolEnum.none: 'none'>, implicit_solvent=None, maxiter=200, scf_properties=[<SCFProperties.Dipole: 'dipole'>, <SCFProperties.Quadrupole: 'quadrupole'>, <SCFProperties.WibergLowdinIndices: 'wiberg_lowdin_indices'>, <SCFProperties.MayerIndices: 'mayer_indices'>], keywords={}), 'ani1ccx': QCSpec(method='ani1ccx', basis=None, program='torchani', spec_name='ani1ccx', spec_description='ANI1ccx standard specification', store_wavefunction=<WavefunctionProtocolEnum.none: 'none'>, implicit_solvent=None, maxiter=200, scf_properties=[<SCFProperties.Dipole: 'dipole'>, <SCFProperties.Quadrupole: 'quadrupole'>, <SCFProperties.WibergLowdinIndices: 'wiberg_lowdin_indices'>, <SCFProperties.MayerIndices: 'mayer_indices'>], keywords={})}, driver=<SinglepointDriver.energy: 'energy'>, priority='normal', dataset_tags=['openff'], compute_tag='openff', type='BasicDatasetFactory', workflow=[])"
      ]
     },
     "execution_count": 1,
     "metadata": {},
     "output_type": "execute_result"
    }
   ],
   "source": [
    "from qcportal.singlepoint import SinglepointDriver\n",
    "\n",
    "from openff.qcsubmit.factories import BasicDatasetFactory\n",
    "from openff.qcsubmit.common_structures import QCSpec\n",
    "\n",
    "factory = BasicDatasetFactory(\n",
    "    driver=SinglepointDriver.energy,\n",
    "    qc_specifications={\n",
    "        \"default\": QCSpec(),\n",
    "        \"ani1ccx\": QCSpec(\n",
    "            program=\"torchani\",\n",
    "            method=\"ani1ccx\",\n",
    "            basis=None,\n",
    "            spec_name=\"ani1ccx\",\n",
    "            spec_description=\"ANI1ccx standard specification\"\n",
    "        )\n",
    "    }\n",
    ")\n",
    "\n",
    "factory"
   ]
  },
  {
   "cell_type": "markdown",
   "metadata": {
    "pycharm": {
     "name": "#%% md\n"
    }
   },
   "source": [
    "This factory is responsible for creating a 'basic' dataset that will contain a collection of single point\n",
    "calculations provided through the energy/gradient/hessian drivers. Dataset factories are also available for\n",
    "optimization and torsion drive data sets.\n",
    "\n",
    "Here we have specified that datasets created using this factory should be computed using two different 'quantum chemical' (QC) specifications:\n",
    "\n",
    "* `default`: the OpenFF default specification which employs `B3LYP-D3BJ+DZVP` using `psi4`.\n",
    "* `ani1ccx`: ANI1ccx provided by the `torchani` package.\n",
    "\n",
    "The default settings are those recommended by the OpenFF Consortium and are currently used in the fitting of the OpenFF force fields.\n",
    "\n",
    "Now, lets look at the workflow components that will be used to curate our initial set of molecules:"
   ]
  },
  {
   "cell_type": "code",
   "execution_count": 2,
   "metadata": {
    "pycharm": {
     "name": "#%%\n"
    }
   },
   "outputs": [
    {
     "data": {
      "text/plain": [
       "[]"
      ]
     },
     "execution_count": 2,
     "metadata": {},
     "output_type": "execute_result"
    }
   ],
   "source": [
    "factory.workflow"
   ]
  },
  {
   "cell_type": "markdown",
   "metadata": {
    "pycharm": {
     "is_executing": false,
     "name": "#%% md\n"
    }
   },
   "source": [
    "`workflow` is a list that contains the steps that will be executed in the order they will be executed. By default it is empty. Each step is called a \"component\".\n",
    "\n",
    "QCSubmit provides a suite of common curation components, such as to filter out molecules that contain unsupported elements, or to generate a set of conformers for each molecule.\n",
    "\n",
    "Let's set up a workflow that will filter out elements that are not supported by ANI1, then filter by molecular weight, and finally generate conformers for each of the molecules passing through the factory.\n",
    "\n",
    "First we set up the element filter:"
   ]
  },
  {
   "cell_type": "code",
   "execution_count": 3,
   "metadata": {
    "pycharm": {
     "name": "#%%\n"
    }
   },
   "outputs": [],
   "source": [
    "from openff.qcsubmit import workflow_components\n",
    "\n",
    "el_filter = workflow_components.ElementFilter(\n",
    "    allowed_elements=[1, 6, 7, 8]\n",
    ")\n",
    "\n",
    "factory.add_workflow_components(el_filter)"
   ]
  },
  {
   "cell_type": "markdown",
   "metadata": {
    "pycharm": {
     "name": "#%% md\n"
    }
   },
   "source": [
    "This filter has the ability to filter elements by symbol or atomic number. Here we only keep molecules that have no elements other than Hydrogen, Carbon, Nitrogen and Oxygen as we would like to use ANI1 as our QC method."
   ]
  },
  {
   "cell_type": "markdown",
   "metadata": {
    "pycharm": {
     "name": "#%% md\n"
    }
   },
   "source": [
    "Now we set up the weight filter and conformer generation components and add them to the workflow:"
   ]
  },
  {
   "cell_type": "code",
   "execution_count": 4,
   "metadata": {
    "pycharm": {
     "name": "#%%\n"
    }
   },
   "outputs": [],
   "source": [
    "weight_filter = workflow_components.MolecularWeightFilter(\n",
    "    minimum_weight=130,\n",
    "    maximum_weight=781,\n",
    ")\n",
    "factory.add_workflow_components(weight_filter)\n",
    "\n",
    "conf_gen = workflow_components.StandardConformerGenerator(\n",
    "    max_conformers=1,\n",
    "    toolkit=\"rdkit\"\n",
    ")\n",
    "factory.add_workflow_components(conf_gen)"
   ]
  },
  {
   "cell_type": "markdown",
   "metadata": {
    "pycharm": {
     "name": "#%% md\n"
    }
   },
   "source": [
    "Let's look at the workflow and make sure all the components were correctly added:"
   ]
  },
  {
   "cell_type": "code",
   "execution_count": 5,
   "metadata": {
    "pycharm": {
     "name": "#%%\n"
    }
   },
   "outputs": [
    {
     "data": {
      "text/plain": [
       "[ElementFilter(type='ElementFilter', allowed_elements=[1, 6, 7, 8]),\n",
       " MolecularWeightFilter(type='MolecularWeightFilter', minimum_weight=130, maximum_weight=781),\n",
       " StandardConformerGenerator(type='StandardConformerGenerator', rms_cutoff=None, max_conformers=1, clear_existing=True)]"
      ]
     },
     "execution_count": 5,
     "metadata": {},
     "output_type": "execute_result"
    }
   ],
   "source": [
    "factory.workflow"
   ]
  },
  {
   "cell_type": "markdown",
   "metadata": {
    "pycharm": {
     "name": "#%% md\n"
    }
   },
   "source": [
    "We can save the settings and workflow so they can be used again later. Workflows can be saved to several formats, including the popular JSON and YAML:"
   ]
  },
  {
   "cell_type": "code",
   "execution_count": 6,
   "metadata": {
    "pycharm": {
     "name": "#%%\n"
    }
   },
   "outputs": [],
   "source": [
    "factory.export_settings(\"example-factory.json\")\n",
    "factory.export_settings(\"example-factory.yaml\")"
   ]
  },
  {
   "cell_type": "markdown",
   "metadata": {
    "pycharm": {
     "name": "#%% md\n"
    }
   },
   "source": [
    "Let's look at the JSON output:"
   ]
  },
  {
   "cell_type": "code",
   "execution_count": 7,
   "metadata": {
    "pycharm": {
     "name": "#%%\n"
    }
   },
   "outputs": [
    {
     "name": "stdout",
     "output_type": "stream",
     "text": [
      "{\r\n",
      "  \"qc_specifications\": {\r\n",
      "    \"default\": {\r\n",
      "      \"method\": \"B3LYP-D3BJ\",\r\n",
      "      \"basis\": \"DZVP\",\r\n",
      "      \"program\": \"psi4\",\r\n",
      "      \"spec_name\": \"default\",\r\n",
      "      \"spec_description\": \"Standard OpenFF optimization quantum chemistry specification.\",\r\n",
      "      \"store_wavefunction\": \"none\",\r\n",
      "      \"implicit_solvent\": null,\r\n",
      "      \"maxiter\": 200,\r\n",
      "      \"scf_properties\": [\r\n",
      "        \"dipole\",\r\n",
      "        \"quadrupole\",\r\n",
      "        \"wiberg_lowdin_indices\",\r\n",
      "        \"mayer_indices\"\r\n",
      "      ],\r\n",
      "      \"keywords\": {}\r\n",
      "    },\r\n",
      "    \"ani1ccx\": {\r\n"
     ]
    }
   ],
   "source": [
    "! head -n 20 example-factory.json"
   ]
  },
  {
   "cell_type": "markdown",
   "metadata": {
    "pycharm": {
     "name": "#%% md\n"
    }
   },
   "source": [
    "These settings can be re-imported easily using the API:"
   ]
  },
  {
   "cell_type": "code",
   "execution_count": 8,
   "metadata": {},
   "outputs": [],
   "source": [
    "imported_factory = BasicDatasetFactory.from_file(\"example-factory.json\")"
   ]
  },
  {
   "cell_type": "markdown",
   "metadata": {},
   "source": [
    "## Creating the dataset\n",
    "\n",
    "We can run the workflow on an example set of molecules:"
   ]
  },
  {
   "cell_type": "code",
   "execution_count": 9,
   "metadata": {
    "scrolled": true
   },
   "outputs": [],
   "source": [
    "from openff.toolkit.topology import Molecule\n",
    "\n",
    "mols = [\n",
    "    Molecule.from_smiles(smiles)\n",
    "    for smiles in [\n",
    "        \"[H]/N=C(/N)\\\\Nc1[nH]nnn1\",\n",
    "        \"c1cc[nH+]cc1\",\n",
    "        \"C[N+](C)(C)[O-]\",\n",
    "        \"CONC(=O)N\",\n",
    "        \"c1ccc2c(c1)cc[nH]2\",\n",
    "        \"c1ccc(cc1)/N=C\\\\NO\",\n",
    "        \"C=CO\",\n",
    "        \"c1cocc1[O-]\",\n",
    "        \"CC(=O)NO\",\n",
    "        \"C[N+](=C)C\",\n",
    "        \"C(=O)C=O\",\n",
    "        \"C=C\",\n",
    "        \"CC1=NC(=NC1=[N+]=[N-])Cl\",\n",
    "        \"c1cc[n+](cc1)[O-]\",\n",
    "        \"CN(C)O\",\n",
    "        \"N(=O)(=O)O\",\n",
    "        \"CC=O\",\n",
    "        \"c1cc(oc1)c2ccco2\",\n",
    "        \"CC\",\n",
    "        \"C1C=CC(=O)C=C1\",\n",
    "    ]\n",
    "]"
   ]
  },
  {
   "cell_type": "markdown",
   "metadata": {
    "pycharm": {
     "name": "#%% md\n"
    }
   },
   "source": [
    "This is as simple as calling the factories `create_dataset` method and providing the set of molecules as input:"
   ]
  },
  {
   "cell_type": "code",
   "execution_count": 10,
   "metadata": {
    "scrolled": true
   },
   "outputs": [
    {
     "name": "stderr",
     "output_type": "stream",
     "text": [
      "Deduplication                 : 100%|██████████| 20/20 [00:00<00:00, 465.41it/s]\n",
      "ElementFilter                 : 100%|███████████| 20/20 [00:04<00:00,  4.51it/s]\n",
      "MolecularWeightFilter         : 100%|███████████| 19/19 [00:03<00:00,  5.00it/s]\n",
      "StandardConformerGenerator    : 100%|█████████████| 2/2 [00:02<00:00,  1.22s/it]\n",
      "Preparation                   : 100%|█████████████| 2/2 [00:00<00:00, 48.09it/s]\n"
     ]
    },
    {
     "data": {
      "text/plain": [
       "BasicDataset(qc_specifications={'default': QCSpec(method='B3LYP-D3BJ', basis='DZVP', program='psi4', spec_name='default', spec_description='Standard OpenFF optimization quantum chemistry specification.', store_wavefunction=<WavefunctionProtocolEnum.none: 'none'>, implicit_solvent=None, maxiter=200, scf_properties=[<SCFProperties.Dipole: 'dipole'>, <SCFProperties.Quadrupole: 'quadrupole'>, <SCFProperties.WibergLowdinIndices: 'wiberg_lowdin_indices'>, <SCFProperties.MayerIndices: 'mayer_indices'>], keywords={}), 'ani1ccx': QCSpec(method='ani1ccx', basis=None, program='torchani', spec_name='ani1ccx', spec_description='ANI1ccx standard specification', store_wavefunction=<WavefunctionProtocolEnum.none: 'none'>, implicit_solvent=None, maxiter=200, scf_properties=[<SCFProperties.Dipole: 'dipole'>, <SCFProperties.Quadrupole: 'quadrupole'>, <SCFProperties.WibergLowdinIndices: 'wiberg_lowdin_indices'>, <SCFProperties.MayerIndices: 'mayer_indices'>], keywords={})}, driver=<SinglepointDriver.energy: 'energy'>, priority='normal', dataset_tags=['openff'], compute_tag='openff', dataset_name='example-dataset', dataset_tagline='An example dataset.', type='DataSet', description='An example dataset.', metadata=Metadata(submitter='jeffreywagner', creation_date=datetime.date(2023, 10, 31), collection_type='DataSet', dataset_name='example-dataset', short_description='An example dataset.', long_description_url=None, long_description='An example dataset.', elements={'N', 'C', 'H', 'O'}), provenance={'openff-qcsubmit': '0.5.0+108.g3489932.dirty', 'openff-toolkit': '0.13.1', 'OpenEyeToolkitWrapper': '2023.1.1', 'RDKitToolkitWrapper': '2023.03.1', 'AmberToolsToolkitWrapper': '22.0'}, dataset={'c1ccc(cc1)/N=C\\\\NO': DatasetEntry(index='c1ccc(cc1)/N=C\\\\NO', initial_molecules=[Molecule(name='C7H8N2O', formula='C7H8N2O', hash='dcb3621')], attributes=MoleculeAttributes(canonical_smiles='c1ccc(cc1)N=CNO', canonical_isomeric_smiles='c1ccc(cc1)/N=C\\\\NO', canonical_explicit_hydrogen_smiles='[H]c1c(c(c(c(c1[H])[H])N=C([H])N([H])O[H])[H])[H]', canonical_isomeric_explicit_hydrogen_smiles='[H]c1c(c(c(c(c1[H])[H])/N=C(/[H])\\\\N([H])O[H])[H])[H]', canonical_isomeric_explicit_hydrogen_mapped_smiles='[H:11][c:1]1[c:2]([c:3]([c:4]([c:5]([c:6]1[H:15])[H:14])/[N:7]=[C:8](/[H:16])\\\\[N:9]([H:17])[O:10][H:18])[H:13])[H:12]', molecular_formula='C7H8N2O', standard_inchi='InChI=1S/C7H8N2O/c10-9-6-8-7-4-2-1-3-5-7/h1-6,10H,(H,8,9)', inchi_key='FEUZPLBUEYBLTN-UHFFFAOYSA-N', fixed_hydrogen_inchi='InChI=1/C7H8N2O/c10-9-6-8-7-4-2-1-3-5-7/h1-6,10H,(H,8,9)/f/h9H/b8-6-', fixed_hydrogen_inchi_key='FEUZPLBUEYBLTN-NAFDMULTNA-N', unique_fixed_hydrogen_inchi_keys={'FEUZPLBUEYBLTN-NAFDMULTNA-N'}), extras={'canonical_isomeric_explicit_hydrogen_mapped_smiles': '[H:11][c:1]1[c:2]([c:3]([c:4]([c:5]([c:6]1[H:15])[H:14])/[N:7]=[C:8](/[H:16])\\\\[N:9]([H:17])[O:10][H:18])[H:13])[H:12]'}, keywords={}), 'C1=COC(=C1)C2=CC=CO2': DatasetEntry(index='C1=COC(=C1)C2=CC=CO2', initial_molecules=[Molecule(name='C8H6O2', formula='C8H6O2', hash='3ebf2bb')], attributes=MoleculeAttributes(canonical_smiles='C1=COC(=C1)C2=CC=CO2', canonical_isomeric_smiles='C1=COC(=C1)C2=CC=CO2', canonical_explicit_hydrogen_smiles='[H]C1=C(OC(=C1[H])C2=C(C(=C(O2)[H])[H])[H])[H]', canonical_isomeric_explicit_hydrogen_smiles='[H]C1=C(OC(=C1[H])C2=C(C(=C(O2)[H])[H])[H])[H]', canonical_isomeric_explicit_hydrogen_mapped_smiles='[H:11][C:1]1=[C:5]([O:4][C:3](=[C:2]1[H:12])[C:6]2=[C:7]([C:8](=[C:9]([O:10]2)[H:16])[H:15])[H:14])[H:13]', molecular_formula='C8H6O2', standard_inchi='InChI=1S/C8H6O2/c1-3-7(9-5-1)8-4-2-6-10-8/h1-6H', inchi_key='UDHZFLBMZZVHRA-UHFFFAOYSA-N', fixed_hydrogen_inchi='InChI=1/C8H6O2/c1-3-7(9-5-1)8-4-2-6-10-8/h1-6H', fixed_hydrogen_inchi_key='UDHZFLBMZZVHRA-UHFFFAOYNA-N', unique_fixed_hydrogen_inchi_keys={'UDHZFLBMZZVHRA-UHFFFAOYNA-N'}), extras={'canonical_isomeric_explicit_hydrogen_mapped_smiles': '[H:11][C:1]1=[C:5]([O:4][C:3](=[C:2]1[H:12])[C:6]2=[C:7]([C:8](=[C:9]([O:10]2)[H:16])[H:15])[H:14])[H:13]'}, keywords={})}, filtered_molecules={'ElementFilter': FilterEntry(component='ElementFilter', component_settings={'type': 'ElementFilter', 'allowed_elements': [1, 6, 7, 8]}, component_provenance={'openff-toolkit': '0.13.1', 'openff-qcsubmit': '0.5.0+108.g3489932.dirty', 'OpenEyeToolkitWrapper': '2023.1.1', 'RDKitToolkitWrapper': '2023.03.1', 'AmberToolsToolkitWrapper': '22.0', 'openmm_elements': '8.0'}, molecules=['[H]C([H])([H])C1=NC(=NC1=[N+]=[N-])Cl']), 'MolecularWeightFilter': FilterEntry(component='MolecularWeightFilter', component_settings={'type': 'MolecularWeightFilter', 'minimum_weight': 130, 'maximum_weight': 781}, component_provenance={'openff-toolkit': '0.13.1', 'openff-qcsubmit': '0.5.0+108.g3489932.dirty', 'OpenEyeToolkitWrapper': '2023.1.1', 'RDKitToolkitWrapper': '2023.03.1', 'AmberToolsToolkitWrapper': '22.0'}, molecules=['[H]/N=C(/N([H])[H])\\\\N([H])C1=NN=NN1[H]', '[H]c1c(c([n+](c(c1[H])[H])[H])[H])[H]', '[H]C([H])([H])[N+](C([H])([H])[H])(C([H])([H])[H])[O-]', '[H]C([H])([H])ON([H])C(=O)N([H])[H]', '[H]c1c(c(c2c(c1[H])C(=C(N2[H])[H])[H])[H])[H]', '[H]C(=C([H])O[H])[H]', '[H]C1=C(OC(=C1[O-])[H])[H]', '[H]C([H])([H])C(=O)N([H])O[H]', '[H]C(=[N+](C([H])([H])[H])C([H])([H])[H])[H]', '[H]C(=O)C(=O)[H]', '[H]C(=C([H])[H])[H]', '[H]c1c(c([n+](c(c1[H])[H])[O-])[H])[H]', '[H]C([H])([H])N(C([H])([H])[H])O[H]', '[H]ON(=O)=O', '[H]C(=O)C([H])([H])[H]', '[H]C([H])([H])C([H])([H])[H]', '[H]C1=C(C(C(=C(C1=O)[H])[H])([H])[H])[H]']), 'StandardConformerGenerator': FilterEntry(component='StandardConformerGenerator', component_settings={'type': 'StandardConformerGenerator', 'rms_cutoff': None, 'max_conformers': 1, 'clear_existing': True}, component_provenance={'openff-toolkit': '0.13.1', 'openff-qcsubmit': '0.5.0+108.g3489932.dirty', 'OpenEyeToolkitWrapper': '2023.1.1', 'RDKitToolkitWrapper': '2023.03.1', 'AmberToolsToolkitWrapper': '22.0'}, molecules=[])})"
      ]
     },
     "execution_count": 10,
     "metadata": {},
     "output_type": "execute_result"
    }
   ],
   "source": [
    "dataset = factory.create_dataset(\n",
    "    molecules=mols,\n",
    "    dataset_name=\"example-dataset\",\n",
    "    description=\"An example dataset.\",\n",
    "    tagline=\"An example dataset.\"\n",
    ")\n",
    "dataset"
   ]
  },
  {
   "cell_type": "markdown",
   "metadata": {
    "pycharm": {
     "name": "#%% md\n"
    }
   },
   "source": [
    "We can easily see how many molecules the dataset contains after filtering:"
   ]
  },
  {
   "cell_type": "code",
   "execution_count": 11,
   "metadata": {
    "pycharm": {
     "name": "#%%\n"
    }
   },
   "outputs": [
    {
     "data": {
      "text/plain": [
       "2"
      ]
     },
     "execution_count": 11,
     "metadata": {},
     "output_type": "execute_result"
    }
   ],
   "source": [
    "dataset.n_molecules"
   ]
  },
  {
   "cell_type": "markdown",
   "metadata": {
    "pycharm": {
     "name": "#%% md\n"
    }
   },
   "source": [
    "and how many QC 'records' will be computed for this dataset:"
   ]
  },
  {
   "cell_type": "code",
   "execution_count": 12,
   "metadata": {
    "pycharm": {
     "name": "#%%\n"
    }
   },
   "outputs": [
    {
     "data": {
      "text/plain": [
       "2"
      ]
     },
     "execution_count": 12,
     "metadata": {},
     "output_type": "execute_result"
    }
   ],
   "source": [
    "dataset.n_records"
   ]
  },
  {
   "cell_type": "markdown",
   "metadata": {
    "pycharm": {
     "name": "#%% md\n"
    }
   },
   "source": [
    "We can iterate over the molecules in the dataset:"
   ]
  },
  {
   "cell_type": "code",
   "execution_count": 13,
   "metadata": {
    "pycharm": {
     "name": "#%%\n"
    }
   },
   "outputs": [
    {
     "name": "stdout",
     "output_type": "stream",
     "text": [
      "c1ccc(cc1)/N=C\\NO\n",
      "C1=COC(=C1)C2=CC=CO2\n"
     ]
    }
   ],
   "source": [
    "for molecule in dataset.molecules:\n",
    "    print(molecule.to_smiles(explicit_hydrogens=False))"
   ]
  },
  {
   "cell_type": "markdown",
   "metadata": {
    "pycharm": {
     "name": "#%% md\n"
    }
   },
   "source": [
    "as well as those that were filtered out during its construction:"
   ]
  },
  {
   "cell_type": "code",
   "execution_count": 14,
   "metadata": {
    "pycharm": {
     "name": "#%%\n"
    }
   },
   "outputs": [
    {
     "name": "stdout",
     "output_type": "stream",
     "text": [
      "CC1=NC(=NC1=[N+]=[N-])Cl\n",
      "[H]/N=C(/N)\\NC1=NN=NN1\n",
      "c1cc[nH+]cc1\n",
      "C[N+](C)(C)[O-]\n",
      "CONC(=O)N\n",
      "c1ccc2c(c1)C=CN2\n",
      "C=CO\n",
      "C1=COC=C1[O-]\n",
      "CC(=O)NO\n",
      "C[N+](=C)C\n",
      "C(=O)C=O\n",
      "C=C\n",
      "c1cc[n+](cc1)[O-]\n",
      "CN(C)O\n",
      "N(=O)(=O)O\n",
      "CC=O\n",
      "CC\n",
      "C1C=CC(=O)C=C1\n"
     ]
    }
   ],
   "source": [
    "for molecule in dataset.filtered:\n",
    "    print(molecule.to_smiles(explicit_hydrogens=False))"
   ]
  },
  {
   "cell_type": "markdown",
   "metadata": {
    "pycharm": {
     "name": "#%% md\n"
    }
   },
   "source": [
    "The final dataset is readily exportable to JSON:"
   ]
  },
  {
   "cell_type": "code",
   "execution_count": 15,
   "metadata": {},
   "outputs": [],
   "source": [
    "dataset.export_dataset(\"example-dataset.json\")"
   ]
  },
  {
   "cell_type": "markdown",
   "metadata": {
    "pycharm": {
     "name": "#%% md\n"
    }
   },
   "source": [
    "and the molecules it contains can be exported to various formats:"
   ]
  },
  {
   "cell_type": "code",
   "execution_count": 16,
   "metadata": {},
   "outputs": [],
   "source": [
    "dataset.molecules_to_file(\"example-dataset.smi\", \"smi\")\n",
    "dataset.molecules_to_file(\"example-dataset.inchi\", \"inchi\")\n",
    "dataset.molecules_to_file(\"example-dataset.inchikey\", \"inchikey\")"
   ]
  },
  {
   "cell_type": "markdown",
   "metadata": {
    "pycharm": {
     "name": "#%% md\n"
    }
   },
   "source": [
    "The molecules contained within a dataset can also be easily visualized by exporting the dataset to a PDF:"
   ]
  },
  {
   "cell_type": "code",
   "execution_count": 17,
   "metadata": {
    "pycharm": {
     "name": "#%%\n"
    }
   },
   "outputs": [],
   "source": [
    "dataset.visualize(\"example-dataset.pdf\")"
   ]
  },
  {
   "cell_type": "code",
   "execution_count": null,
   "metadata": {},
   "outputs": [],
   "source": []
  }
 ],
 "metadata": {
  "kernelspec": {
   "display_name": "Python 3 (ipykernel)",
   "language": "python",
   "name": "python3"
  },
  "language_info": {
   "codemirror_mode": {
    "name": "ipython",
    "version": 3
   },
   "file_extension": ".py",
   "mimetype": "text/x-python",
   "name": "python",
   "nbconvert_exporter": "python",
   "pygments_lexer": "ipython3",
   "version": "3.10.11"
  }
 },
 "nbformat": 4,
 "nbformat_minor": 1
}
