{
 "cells": [
  {
   "cell_type": "markdown",
   "metadata": {},
   "source": [
    "# Creating Datasets\n",
    "\n",
    "In this example we will show how `openff-qcsubmit` can be used to curate [QCFractal](http://docs.qcarchive.molssi.org/projects/qcfractal/en/latest/)\n",
    "compatible datasets that can be submitted to public or local fractals instances (e.g. the [QCArchive](https://qcarchive.molssi.org/)).\n",
    "\n",
    "In particular, we will show how the framework can be used to define reproducible workflows for curating datasets by\n",
    "processing large lists of molecules and applying filtering and other useful operations such as state enumeration and\n",
    "fragmentation, via the API. Further, we will demonstrate how such a workflow can be exported to a settings file that\n",
    "can then be used to reconstruct the entire workflow by another user.\n",
    "\n",
    "For the sake of clarity all verbose warnings will be disabled in this tutorial:"
   ]
  },
  {
   "cell_type": "code",
   "execution_count": 1,
   "outputs": [],
   "source": [
    "import warnings\n",
    "warnings.filterwarnings('ignore')\n",
    "import logging\n",
    "logging.getLogger(\"openff.toolkit\").setLevel(logging.ERROR)"
   ],
   "metadata": {
    "collapsed": false,
    "pycharm": {
     "name": "#%%\n"
    }
   }
  },
  {
   "cell_type": "markdown",
   "source": [
    "## Creating a dataset factory\n",
    "\n",
    "The `openff-qcsubmit` package provides a number of dataset 'factories'. A factory is a reusable object that encodes all\n",
    "the core settings that will be used to curate / compute a dataset from an input list of molecule.\n",
    "\n",
    "Here we will begin by creating a 'basic' data set factory:"
   ],
   "metadata": {
    "collapsed": false,
    "pycharm": {
     "name": "#%% md\n"
    }
   }
  },
  {
   "cell_type": "code",
   "execution_count": 2,
   "metadata": {
    "pycharm": {
     "name": "#%% \n"
    }
   },
   "outputs": [
    {
     "data": {
      "text/plain": "BasicDatasetFactory(qc_specifications={'default': QCSpec(method='B3LYP-D3BJ', basis='DZVP', program='psi4', spec_name='default', spec_description='Standard OpenFF optimization quantum chemistry specification.', store_wavefunction=<WavefunctionProtocolEnum.none: 'none'>, implicit_solvent=None), 'ani1ccx': QCSpec(method='ani1ccx', basis=None, program='torchani', spec_name='ani1ccx', spec_description='ANI1ccx standard specification', store_wavefunction=<WavefunctionProtocolEnum.none: 'none'>, implicit_solvent=None)}, maxiter=200, driver=<DriverEnum.energy: 'energy'>, scf_properties=[<SCFProperties.Dipole: 'dipole'>, <SCFProperties.Quadrupole: 'quadrupole'>, <SCFProperties.WibergLowdinIndices: 'wiberg_lowdin_indices'>, <SCFProperties.MayerIndices: 'mayer_indices'>], priority='normal', dataset_tags=['openff'], compute_tag='openff', type='BasicDatasetFactory', workflow=[])"
     },
     "execution_count": 2,
     "metadata": {},
     "output_type": "execute_result"
    }
   ],
   "source": [
    "from qcportal.models.common_models import DriverEnum\n",
    "\n",
    "from openff.qcsubmit.factories import BasicDatasetFactory\n",
    "from openff.qcsubmit.common_structures import QCSpec\n",
    "\n",
    "factory = BasicDatasetFactory(\n",
    "    driver=DriverEnum.energy,\n",
    "    qc_specifications={\n",
    "        \"default\": QCSpec(),\n",
    "        \"ani1ccx\": QCSpec(\n",
    "            program=\"torchani\",\n",
    "            method=\"ani1ccx\",\n",
    "            basis=None,\n",
    "            spec_name=\"ani1ccx\",\n",
    "            spec_description=\"ANI1ccx standard specification\"\n",
    "        )\n",
    "    }\n",
    ")\n",
    "\n",
    "factory"
   ]
  },
  {
   "cell_type": "markdown",
   "source": [
    "that will be responsible for creating a 'basic' dataset that will contain a collection of single point\n",
    "calculations provided through the energy/gradient/hessian drivers. Dataset factories are also available for\n",
    "optimization and torsion drive data sets.\n",
    "\n",
    "Here we have specified that datasets created using this factory should be computed using two different 'quantum chemical'\n",
    "(QC) specfications:\n",
    "\n",
    "* `default`: the OpenFF default specification which employs `B3LYP-D3BJ+DZVP` using `psi4`.\n",
    "* `ani1ccx`: ANI1ccx provided by the `torchani` package.\n",
    "\n",
    "Note that the basic settings should be suitable in most cases as they are those recommended by the OpenFF Consortium and\n",
    "are currently used in the fitting of the most recent force fields.\n",
    "\n",
    "Now lets look at the workflow components that will be used to curate our initial set of molecules."
   ],
   "metadata": {
    "collapsed": false,
    "pycharm": {
     "name": "#%% md\n"
    }
   }
  },
  {
   "cell_type": "code",
   "execution_count": 3,
   "metadata": {
    "pycharm": {
     "name": "#%%\n"
    }
   },
   "outputs": [
    {
     "data": {
      "text/plain": "[]"
     },
     "execution_count": 3,
     "metadata": {},
     "output_type": "execute_result"
    }
   ],
   "source": [
    "factory.workflow"
   ]
  },
  {
   "cell_type": "markdown",
   "metadata": {
    "pycharm": {
     "is_executing": false,
     "name": "#%% md\n"
    }
   },
   "source": [
    "The workflow is a list that contains the components that will be executed in order, and by default will be\n",
    "empty.\n",
    "\n",
    "`openff-qcsubmit` provides a suite of common curation components, such as to filter out molecules that contain\n",
    "unsupported elements, or to generate a set of conformers for each molecule.\n",
    "\n",
    "Here we will set up a workflow that will filter out some unwanted elements (i.e. those not supported by ANI1), then\n",
    "filter by molecular weight, and finally generate conformers for each of the molecules passing through the factory.\n",
    "\n",
    "First we set up the element filter:"
   ]
  },
  {
   "cell_type": "code",
   "execution_count": 4,
   "metadata": {
    "pycharm": {
     "name": "#%%\n"
    }
   },
   "outputs": [],
   "source": [
    "from openff.qcsubmit import workflow_components\n",
    "\n",
    "el_filter = workflow_components.ElementFilter(\n",
    "    allowed_elements=[1, 6, 7, 8]\n",
    ")\n",
    "\n",
    "factory.add_workflow_components(el_filter)"
   ]
  },
  {
   "cell_type": "markdown",
   "metadata": {
    "pycharm": {
     "name": "#%% md\n"
    }
   },
   "source": [
    "This filter has the ability to filter elements by atomic name or number, we just have to supply a list of \n",
    "symbols or numbers to the filter. Here we only keep molecules with elements of H,C,N and O as we would like\n",
    "to use AN1 as our QC method."
   ]
  },
  {
   "cell_type": "markdown",
   "metadata": {
    "pycharm": {
     "name": "#%% md\n"
    }
   },
   "source": [
    "Now we will set up the weight filter and conformer generation components and add them to the workflow."
   ]
  },
  {
   "cell_type": "code",
   "execution_count": 5,
   "metadata": {
    "pycharm": {
     "name": "#%%\n"
    }
   },
   "outputs": [],
   "source": [
    "weight_filter = workflow_components.MolecularWeightFilter()\n",
    "factory.add_workflow_components(weight_filter)\n",
    "\n",
    "conf_gen = workflow_components.StandardConformerGenerator(\n",
    "    max_conformers=1,\n",
    "    toolkit=\"rdkit\"\n",
    ")\n",
    "factory.add_workflow_components(conf_gen)"
   ]
  },
  {
   "cell_type": "markdown",
   "metadata": {
    "pycharm": {
     "name": "#%% md\n"
    }
   },
   "source": [
    "Let's look at the workflow and make sure all the components were correctly added:"
   ]
  },
  {
   "cell_type": "code",
   "execution_count": 6,
   "metadata": {
    "pycharm": {
     "name": "#%%\n"
    }
   },
   "outputs": [
    {
     "data": {
      "text/plain": "[ElementFilter(type='ElementFilter', allowed_elements=[1, 6, 7, 8]),\n MolecularWeightFilter(type='MolecularWeightFilter', minimum_weight=130, maximum_weight=781),\n StandardConformerGenerator(type='StandardConformerGenerator', toolkit='rdkit', rms_cutoff=None, max_conformers=1, clear_existing=True)]"
     },
     "execution_count": 6,
     "metadata": {},
     "output_type": "execute_result"
    }
   ],
   "source": [
    "factory.workflow"
   ]
  },
  {
   "cell_type": "markdown",
   "source": [
    "and save the settings and workflow so they can be used again later:"
   ],
   "metadata": {
    "collapsed": false,
    "pycharm": {
     "name": "#%% md\n"
    }
   }
  },
  {
   "cell_type": "code",
   "execution_count": 7,
   "metadata": {
    "pycharm": {
     "name": "#%%\n"
    }
   },
   "outputs": [],
   "source": [
    "factory.export_settings(\"example-factory.json\")\n",
    "factory.export_settings(\"example-factory.yaml\")"
   ]
  },
  {
   "cell_type": "markdown",
   "source": [
    "While workflows can be exported to several formats, the most commonly used are JSON and YAML as shown in this\n",
    "example. Let's look at the JSON output:"
   ],
   "metadata": {
    "collapsed": false,
    "pycharm": {
     "name": "#%% md\n"
    }
   }
  },
  {
   "cell_type": "code",
   "execution_count": 8,
   "metadata": {
    "pycharm": {
     "name": "#%%\n"
    }
   },
   "outputs": [
    {
     "name": "stdout",
     "output_type": "stream",
     "text": [
      "{\r\n",
      "  \"qc_specifications\": {\r\n",
      "    \"default\": {\r\n",
      "      \"method\": \"B3LYP-D3BJ\",\r\n",
      "      \"basis\": \"DZVP\",\r\n",
      "      \"program\": \"psi4\",\r\n",
      "      \"spec_name\": \"default\",\r\n",
      "      \"spec_description\": \"Standard OpenFF optimization quantum chemistry specification.\",\r\n",
      "      \"store_wavefunction\": \"none\",\r\n",
      "      \"implicit_solvent\": null\r\n",
      "    },\r\n",
      "    \"ani1ccx\": {\r\n",
      "      \"method\": \"ani1ccx\",\r\n",
      "      \"basis\": null,\r\n",
      "      \"program\": \"torchani\",\r\n",
      "      \"spec_name\": \"ani1ccx\",\r\n",
      "      \"spec_description\": \"ANI1ccx standard specification\",\r\n",
      "      \"store_wavefunction\": \"none\",\r\n",
      "      \"implicit_solvent\": null\r\n",
      "    }\r\n"
     ]
    }
   ],
   "source": [
    "! head -n 20 example-factory.json"
   ]
  },
  {
   "cell_type": "markdown",
   "metadata": {
    "pycharm": {
     "name": "#%% md\n"
    }
   },
   "source": [
    "These settings can be re-imported easily using the API:"
   ]
  },
  {
   "cell_type": "code",
   "execution_count": 9,
   "metadata": {},
   "outputs": [],
   "source": [
    "imported_factory = BasicDatasetFactory.from_file(\"example-factory.json\")"
   ]
  },
  {
   "cell_type": "markdown",
   "metadata": {},
   "source": [
    "## Creating the dataset\n",
    "\n",
    "We can run the workflow on an example set of molecules:"
   ]
  },
  {
   "cell_type": "code",
   "execution_count": 10,
   "metadata": {
    "scrolled": true
   },
   "outputs": [],
   "source": [
    "from openff.toolkit.topology import Molecule\n",
    "\n",
    "mols = [\n",
    "    Molecule.from_smiles(smiles)\n",
    "    for smiles in [\n",
    "        \"[H]/N=C(/N)\\\\Nc1[nH]nnn1\",\n",
    "        \"c1cc[nH+]cc1\",\n",
    "        \"C[N+](C)(C)[O-]\",\n",
    "        \"CONC(=O)N\",\n",
    "        \"c1ccc2c(c1)cc[nH]2\",\n",
    "        \"c1ccc(cc1)/N=C\\\\NO\",\n",
    "        \"C=CO\",\n",
    "        \"c1cocc1[O-]\",\n",
    "        \"CC(=O)NO\",\n",
    "        \"C[N+](=C)C\",\n",
    "        \"C(=O)C=O\",\n",
    "        \"C=C\",\n",
    "        \"CC1=NC(=NC1=[N+]=[N-])Cl\",\n",
    "        \"c1cc[n+](cc1)[O-]\",\n",
    "        \"CN(C)O\",\n",
    "        \"N(=O)(=O)O\",\n",
    "        \"CC=O\",\n",
    "        \"c1cc(oc1)c2ccco2\",\n",
    "        \"CC\",\n",
    "        \"C1C=CC(=O)C=C1\",\n",
    "    ]\n",
    "]"
   ]
  },
  {
   "cell_type": "markdown",
   "source": [
    "This is as simple as calling the factories `create_dataset` method and providing the set of molecules as input:"
   ],
   "metadata": {
    "collapsed": false,
    "pycharm": {
     "name": "#%% md\n"
    }
   }
  },
  {
   "cell_type": "code",
   "execution_count": 11,
   "metadata": {
    "scrolled": true
   },
   "outputs": [
    {
     "name": "stderr",
     "output_type": "stream",
     "text": [
      "Deduplication                 : 100%|██████████| 20/20 [00:00<00:00, 686.53it/s]\n",
      "ElementFilter                 : 100%|██████████| 20/20 [00:00<00:00, 476.25it/s]\n",
      "MolecularWeightFilter         : 100%|██████████| 19/19 [00:00<00:00, 110.36it/s]\n",
      "StandardConformerGenerator    : 100%|█████████████| 2/2 [00:00<00:00,  8.46it/s]\n",
      "Preparation                   : 100%|█████████████| 2/2 [00:00<00:00, 58.50it/s]\n"
     ]
    },
    {
     "data": {
      "text/plain": "BasicDataset(qc_specifications={'default': QCSpec(method='B3LYP-D3BJ', basis='DZVP', program='psi4', spec_name='default', spec_description='Standard OpenFF optimization quantum chemistry specification.', store_wavefunction=<WavefunctionProtocolEnum.none: 'none'>, implicit_solvent=None), 'ani1ccx': QCSpec(method='ani1ccx', basis=None, program='torchani', spec_name='ani1ccx', spec_description='ANI1ccx standard specification', store_wavefunction=<WavefunctionProtocolEnum.none: 'none'>, implicit_solvent=None)}, maxiter=200, driver=<DriverEnum.energy: 'energy'>, scf_properties=[<SCFProperties.Dipole: 'dipole'>, <SCFProperties.Quadrupole: 'quadrupole'>, <SCFProperties.WibergLowdinIndices: 'wiberg_lowdin_indices'>, <SCFProperties.MayerIndices: 'mayer_indices'>], priority='normal', dataset_tags=['openff'], compute_tag='openff', dataset_name='example-dataset', dataset_tagline='An example dataset.', dataset_type='DataSet', description='An example dataset.', metadata=Metadata(submitter='boothros', creation_date=datetime.date(2021, 6, 22), collection_type='DataSet', dataset_name='example-dataset', short_description='An example dataset.', long_description_url=None, long_description='An example dataset.', elements={'C', 'H', 'N', 'O'}), provenance={'openff-qcsubmit': '0.2.1+43.g60a8b1e.dirty', 'openff-toolkit': '0.9.1', 'openeye': '2019.Oct.2'}, dataset={'c1ccc(cc1)/N=C\\\\NO': DatasetEntry(index='c1ccc(cc1)/N=C\\\\NO', initial_molecules=[Molecule(name='C7H8N2O', formula='C7H8N2O', hash='564b158')], attributes=MoleculeAttributes(canonical_smiles='c1ccc(cc1)N=CNO', canonical_isomeric_smiles='c1ccc(cc1)/N=C\\\\NO', canonical_explicit_hydrogen_smiles='[H]c1c(c(c(c(c1[H])[H])N=C([H])N([H])O[H])[H])[H]', canonical_isomeric_explicit_hydrogen_smiles='[H]c1c(c(c(c(c1[H])[H])/N=C(/[H])\\\\N([H])O[H])[H])[H]', canonical_isomeric_explicit_hydrogen_mapped_smiles='[H:11][c:1]1[c:2]([c:4]([c:6]([c:5]([c:3]1[H:13])[H:15])/[N:8]=[C:7](/[H:16])\\\\[N:9]([H:17])[O:10][H:18])[H:14])[H:12]', molecular_formula='C7H8N2O', standard_inchi='InChI=1S/C7H8N2O/c10-9-6-8-7-4-2-1-3-5-7/h1-6,10H,(H,8,9)', inchi_key='FEUZPLBUEYBLTN-UHFFFAOYSA-N', fixed_hydrogen_inchi='InChI=1/C7H8N2O/c10-9-6-8-7-4-2-1-3-5-7/h1-6,10H,(H,8,9)/f/h9H/b8-6-', fixed_hydrogen_inchi_key='FEUZPLBUEYBLTN-NAFDMULTNA-N', provenance={'openff-qcsubmit': '0.2.1+43.g60a8b1e.dirty', 'openff-toolkit': '0.9.1', 'openeye': '2019.Oct.2'}), extras={'canonical_isomeric_explicit_hydrogen_mapped_smiles': '[H:11][c:1]1[c:2]([c:4]([c:6]([c:5]([c:3]1[H:13])[H:15])/[N:8]=[C:7](/[H:16])\\\\[N:9]([H:17])[O:10][H:18])[H:14])[H:12]'}, keywords={}), 'C1=COC(=C1)C2=CC=CO2': DatasetEntry(index='C1=COC(=C1)C2=CC=CO2', initial_molecules=[Molecule(name='C8H6O2', formula='C8H6O2', hash='06d0a08')], attributes=MoleculeAttributes(canonical_smiles='C1=COC(=C1)C2=CC=CO2', canonical_isomeric_smiles='C1=COC(=C1)C2=CC=CO2', canonical_explicit_hydrogen_smiles='[H]C1=C(OC(=C1[H])C2=C(C(=C(O2)[H])[H])[H])[H]', canonical_isomeric_explicit_hydrogen_smiles='[H]C1=C(OC(=C1[H])C2=C(C(=C(O2)[H])[H])[H])[H]', canonical_isomeric_explicit_hydrogen_mapped_smiles='[H:11][C:1]1=[C:5]([O:9][C:7](=[C:3]1[H:13])[C:8]2=[C:4]([C:2](=[C:6]([O:10]2)[H:16])[H:12])[H:14])[H:15]', molecular_formula='C8H6O2', standard_inchi='InChI=1S/C8H6O2/c1-3-7(9-5-1)8-4-2-6-10-8/h1-6H', inchi_key='UDHZFLBMZZVHRA-UHFFFAOYSA-N', fixed_hydrogen_inchi='InChI=1/C8H6O2/c1-3-7(9-5-1)8-4-2-6-10-8/h1-6H', fixed_hydrogen_inchi_key='UDHZFLBMZZVHRA-UHFFFAOYNA-N', provenance={'openff-qcsubmit': '0.2.1+43.g60a8b1e.dirty', 'openff-toolkit': '0.9.1', 'openeye': '2019.Oct.2'}), extras={'canonical_isomeric_explicit_hydrogen_mapped_smiles': '[H:11][C:1]1=[C:5]([O:9][C:7](=[C:3]1[H:13])[C:8]2=[C:4]([C:2](=[C:6]([O:10]2)[H:16])[H:12])[H:14])[H:15]'}, keywords={})}, filtered_molecules={'ElementFilter': FilterEntry(component='ElementFilter', component_settings={'type': 'ElementFilter', 'allowed_elements': [1, 6, 7, 8]}, component_provenance={'openff-toolkit': '0.9.1', 'openff-qcsubmit': '0.2.1+43.g60a8b1e.dirty', 'openmm_elements': '7.5'}, molecules=['[H]C([H])([H])C1=NC(=NC1=[N+]=[N-])Cl']), 'MolecularWeightFilter': FilterEntry(component='MolecularWeightFilter', component_settings={'type': 'MolecularWeightFilter', 'minimum_weight': 130, 'maximum_weight': 781}, component_provenance={'openff-toolkit': '0.9.1', 'openff-qcsubmit': '0.2.1+43.g60a8b1e.dirty', 'openmm_units': '7.5'}, molecules=['[H]/N=C(/N([H])[H])\\\\N([H])C1=NN=NN1[H]', '[H]c1c(c([n+](c(c1[H])[H])[H])[H])[H]', '[H]C([H])([H])[N+](C([H])([H])[H])(C([H])([H])[H])[O-]', '[H]C([H])([H])ON([H])C(=O)N([H])[H]', '[H]c1c(c(c2c(c1[H])C(=C(N2[H])[H])[H])[H])[H]', '[H]C(=C([H])O[H])[H]', '[H]C1=C(OC(=C1[O-])[H])[H]', '[H]C([H])([H])C(=O)N([H])O[H]', '[H]C(=[N+](C([H])([H])[H])C([H])([H])[H])[H]', '[H]C(=O)C(=O)[H]', '[H]C(=C([H])[H])[H]', '[H]c1c(c([n+](c(c1[H])[H])[O-])[H])[H]', '[H]C([H])([H])N(C([H])([H])[H])O[H]', '[H]ON(=O)=O', '[H]C(=O)C([H])([H])[H]', '[H]C([H])([H])C([H])([H])[H]', '[H]C1=C(C(C(=C(C1=O)[H])[H])([H])[H])[H]']), 'StandardConformerGenerator': FilterEntry(component='StandardConformerGenerator', component_settings={'type': 'StandardConformerGenerator', 'toolkit': 'rdkit', 'rms_cutoff': None, 'max_conformers': 1, 'clear_existing': True}, component_provenance={'openff-toolkit': '0.9.1', 'openff-qcsubmit': '0.2.1+43.g60a8b1e.dirty', 'rdkit': '2020.09.5'}, molecules=[])})"
     },
     "execution_count": 11,
     "metadata": {},
     "output_type": "execute_result"
    }
   ],
   "source": [
    "dataset = factory.create_dataset(\n",
    "    molecules=mols,\n",
    "    dataset_name=\"example-dataset\",\n",
    "    description=\"An example dataset.\",\n",
    "    tagline=\"An example dataset.\"\n",
    ")\n",
    "dataset"
   ]
  },
  {
   "cell_type": "markdown",
   "source": [
    "We can easily see how many molecules the dataset contains after filtering:"
   ],
   "metadata": {
    "collapsed": false,
    "pycharm": {
     "name": "#%% md\n"
    }
   }
  },
  {
   "cell_type": "code",
   "execution_count": 12,
   "outputs": [
    {
     "data": {
      "text/plain": "2"
     },
     "execution_count": 12,
     "metadata": {},
     "output_type": "execute_result"
    }
   ],
   "source": [
    "dataset.n_molecules"
   ],
   "metadata": {
    "collapsed": false,
    "pycharm": {
     "name": "#%%\n"
    }
   }
  },
  {
   "cell_type": "markdown",
   "source": [
    "and how many QC 'records' will be computed for this dataset:"
   ],
   "metadata": {
    "collapsed": false,
    "pycharm": {
     "name": "#%% md\n"
    }
   }
  },
  {
   "cell_type": "code",
   "execution_count": 13,
   "outputs": [
    {
     "data": {
      "text/plain": "2"
     },
     "execution_count": 13,
     "metadata": {},
     "output_type": "execute_result"
    }
   ],
   "source": [
    "dataset.n_records"
   ],
   "metadata": {
    "collapsed": false,
    "pycharm": {
     "name": "#%%\n"
    }
   }
  },
  {
   "cell_type": "markdown",
   "source": [
    "We can iterate over the molecules in the dataset:"
   ],
   "metadata": {
    "collapsed": false,
    "pycharm": {
     "name": "#%% md\n"
    }
   }
  },
  {
   "cell_type": "code",
   "execution_count": 14,
   "outputs": [
    {
     "name": "stdout",
     "output_type": "stream",
     "text": [
      "c1ccc(cc1)/N=C\\NO\n",
      "C1=COC(=C1)C2=CC=CO2\n"
     ]
    }
   ],
   "source": [
    "for molecule in dataset.molecules:\n",
    "    print(molecule.to_smiles(explicit_hydrogens=False))"
   ],
   "metadata": {
    "collapsed": false,
    "pycharm": {
     "name": "#%%\n"
    }
   }
  },
  {
   "cell_type": "markdown",
   "source": [
    "as well as those that were filtered out during its construction:"
   ],
   "metadata": {
    "collapsed": false,
    "pycharm": {
     "name": "#%% md\n"
    }
   }
  },
  {
   "cell_type": "code",
   "execution_count": 15,
   "outputs": [
    {
     "name": "stdout",
     "output_type": "stream",
     "text": [
      "CC1=NC(=NC1=[N+]=[N-])Cl\n",
      "[H]/N=C(/N)\\NC1=NN=NN1\n",
      "c1cc[nH+]cc1\n",
      "C[N+](C)(C)[O-]\n",
      "CONC(=O)N\n",
      "c1ccc2c(c1)C=CN2\n",
      "C=CO\n",
      "C1=COC=C1[O-]\n",
      "CC(=O)NO\n",
      "C[N+](=C)C\n",
      "C(=O)C=O\n",
      "C=C\n",
      "c1cc[n+](cc1)[O-]\n",
      "CN(C)O\n",
      "N(=O)(=O)O\n",
      "CC=O\n",
      "CC\n",
      "C1C=CC(=O)C=C1\n"
     ]
    }
   ],
   "source": [
    "for molecule in dataset.filtered:\n",
    "    print(molecule.to_smiles(explicit_hydrogens=False))"
   ],
   "metadata": {
    "collapsed": false,
    "pycharm": {
     "name": "#%%\n"
    }
   }
  },
  {
   "cell_type": "markdown",
   "source": [
    "The fully created dataset is readily exportable to JSON:"
   ],
   "metadata": {
    "collapsed": false,
    "pycharm": {
     "name": "#%% md\n"
    }
   }
  },
  {
   "cell_type": "code",
   "execution_count": 16,
   "metadata": {},
   "outputs": [],
   "source": [
    "dataset.export_dataset(\"example-dataset.json\")"
   ]
  },
  {
   "cell_type": "markdown",
   "source": [
    "and the molecules it contains can be exported to various formats:"
   ],
   "metadata": {
    "collapsed": false,
    "pycharm": {
     "name": "#%% md\n"
    }
   }
  },
  {
   "cell_type": "code",
   "execution_count": 17,
   "metadata": {},
   "outputs": [],
   "source": [
    "dataset.molecules_to_file(\"example-dataset.smi\", \"smi\")\n",
    "dataset.molecules_to_file(\"example-dataset.inchi\", \"inchi\")\n",
    "dataset.molecules_to_file(\"example-dataset.inchikey\", \"inchikey\")"
   ]
  },
  {
   "cell_type": "markdown",
   "metadata": {
    "pycharm": {
     "name": "#%% md\n"
    }
   },
   "source": [
    "The molecules contained within a dataset can also be easily visualized by exporting the dataset to a PDF:"
   ]
  },
  {
   "cell_type": "code",
   "execution_count": 18,
   "outputs": [],
   "source": [
    "dataset.visualize(\"example-dataset.pdf\")"
   ],
   "metadata": {
    "collapsed": false,
    "pycharm": {
     "name": "#%%\n"
    }
   }
  }
 ],
 "metadata": {
  "kernelspec": {
   "display_name": "Python 3",
   "language": "python",
   "name": "python3"
  },
  "language_info": {
   "codemirror_mode": {
    "name": "ipython",
    "version": 3
   },
   "file_extension": ".py",
   "mimetype": "text/x-python",
   "name": "python",
   "nbconvert_exporter": "python",
   "pygments_lexer": "ipython3",
   "version": "3.7.8"
  }
 },
 "nbformat": 4,
 "nbformat_minor": 1
}