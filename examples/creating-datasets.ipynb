{
 "cells": [
  {
   "cell_type": "markdown",
   "metadata": {},
   "source": [
    "# Creating Datasets\n",
    "\n",
    "This example shows how QCSubmit can be used to curate [QCFractal]-compatible datasets that can be submitted to any fractals instance, such as [QCArchive].\n",
    "\n",
    "[QCFractal]: http://docs.qcarchive.molssi.org/projects/qcfractal/en/latest/\n",
    "[QCArchive]: https://qcarchive.molssi.org/\n",
    "\n",
    "In particular, it shows how the framework can be used to define reproducible workflows for curating datasets by\n",
    "processing large lists of molecules. The API makes it easy to include operations like filtering, state enumeration, and fragmentation in these workflows. Further, we will demonstrate how such a workflow can be exported to a settings file that can then be used to reconstruct the entire workflow by another user.\n",
    "\n",
    "For the sake of clarity all verbose warnings will be disabled in this tutorial:"
   ]
  },
  {
   "cell_type": "code",
   "execution_count": 1,
   "metadata": {
    "execution": {
     "iopub.execute_input": "2024-01-30T16:30:48.077646Z",
     "iopub.status.busy": "2024-01-30T16:30:48.077036Z",
     "iopub.status.idle": "2024-01-30T16:30:49.133772Z",
     "shell.execute_reply": "2024-01-30T16:30:49.133329Z"
    }
   },
   "outputs": [],
   "source": [
    "# work around some packaging tension\n",
    "try:\n",
    "    import qcportal  # noqa\n",
    "    from openeye import oechem  # noqa\n",
    "except:\n",
    "    pass"
   ]
  },
  {
   "cell_type": "code",
   "execution_count": 2,
   "metadata": {
    "execution": {
     "iopub.execute_input": "2024-01-30T16:30:49.136777Z",
     "iopub.status.busy": "2024-01-30T16:30:49.136484Z",
     "iopub.status.idle": "2024-01-30T16:30:49.139231Z",
     "shell.execute_reply": "2024-01-30T16:30:49.138777Z"
    },
    "pycharm": {
     "name": "#%%\n"
    }
   },
   "outputs": [],
   "source": [
    "import warnings\n",
    "\n",
    "warnings.filterwarnings(\"ignore\")\n",
    "import logging\n",
    "\n",
    "logging.getLogger(\"openff.toolkit\").setLevel(logging.ERROR)"
   ]
  },
  {
   "cell_type": "markdown",
   "metadata": {
    "pycharm": {
     "name": "#%% md\n"
    }
   },
   "source": [
    "## Creating a dataset factory\n",
    "\n",
    "The `openff-qcsubmit` package provides a number of dataset 'factories'. A factory is a reusable object that encodes all the core settings that will be used to curate / compute a dataset from an input list of molecule.\n",
    "\n",
    "Here we will begin by creating a 'basic' data set factory:"
   ]
  },
  {
   "cell_type": "code",
   "execution_count": 3,
   "metadata": {
    "execution": {
     "iopub.execute_input": "2024-01-30T16:30:49.141727Z",
     "iopub.status.busy": "2024-01-30T16:30:49.141424Z",
     "iopub.status.idle": "2024-01-30T16:30:50.705928Z",
     "shell.execute_reply": "2024-01-30T16:30:50.705260Z"
    },
    "pycharm": {
     "name": "#%% \n"
    }
   },
   "outputs": [
    {
     "data": {
      "text/plain": [
       "BasicDatasetFactory(qc_specifications={'default': QCSpec(method='B3LYP-D3BJ', basis='DZVP', program='psi4', spec_name='default', spec_description='Standard OpenFF optimization quantum chemistry specification.', store_wavefunction=<WavefunctionProtocolEnum.none: 'none'>, implicit_solvent=None, maxiter=200, scf_properties=[<SCFProperties.Dipole: 'dipole'>, <SCFProperties.Quadrupole: 'quadrupole'>, <SCFProperties.WibergLowdinIndices: 'wiberg_lowdin_indices'>, <SCFProperties.MayerIndices: 'mayer_indices'>], keywords={}), 'ani1ccx': QCSpec(method='ani1ccx', basis=None, program='torchani', spec_name='ani1ccx', spec_description='ANI1ccx standard specification', store_wavefunction=<WavefunctionProtocolEnum.none: 'none'>, implicit_solvent=None, maxiter=200, scf_properties=[<SCFProperties.Dipole: 'dipole'>, <SCFProperties.Quadrupole: 'quadrupole'>, <SCFProperties.WibergLowdinIndices: 'wiberg_lowdin_indices'>, <SCFProperties.MayerIndices: 'mayer_indices'>], keywords={})}, driver=<SinglepointDriver.energy: 'energy'>, priority='normal', dataset_tags=['openff'], compute_tag='openff', type='BasicDatasetFactory', workflow=[])"
      ]
     },
     "execution_count": 3,
     "metadata": {},
     "output_type": "execute_result"
    }
   ],
   "source": [
    "from qcportal.singlepoint import SinglepointDriver\n",
    "\n",
    "from openff.qcsubmit.common_structures import QCSpec\n",
    "from openff.qcsubmit.factories import BasicDatasetFactory\n",
    "\n",
    "factory = BasicDatasetFactory(\n",
    "    driver=SinglepointDriver.energy,\n",
    "    qc_specifications={\n",
    "        \"default\": QCSpec(),\n",
    "        \"ani1ccx\": QCSpec(\n",
    "            program=\"torchani\",\n",
    "            method=\"ani1ccx\",\n",
    "            basis=None,\n",
    "            spec_name=\"ani1ccx\",\n",
    "            spec_description=\"ANI1ccx standard specification\",\n",
    "        ),\n",
    "    },\n",
    ")\n",
    "\n",
    "factory"
   ]
  },
  {
   "cell_type": "markdown",
   "metadata": {
    "pycharm": {
     "name": "#%% md\n"
    }
   },
   "source": [
    "This factory is responsible for creating a 'basic' dataset that will contain a collection of single point\n",
    "calculations provided through the energy/gradient/hessian drivers. Dataset factories are also available for\n",
    "optimization and torsion drive data sets.\n",
    "\n",
    "Here we have specified that datasets created using this factory should be computed using two different 'quantum chemical' (QC) specifications:\n",
    "\n",
    "* `default`: the OpenFF default specification which employs `B3LYP-D3BJ+DZVP` using `psi4`.\n",
    "* `ani1ccx`: ANI1ccx provided by the `torchani` package.\n",
    "\n",
    "The default settings are those recommended by the OpenFF Consortium and are currently used in the fitting of the OpenFF force fields.\n",
    "\n",
    "Now, lets look at the workflow components that will be used to curate our initial set of molecules:"
   ]
  },
  {
   "cell_type": "code",
   "execution_count": 4,
   "metadata": {
    "execution": {
     "iopub.execute_input": "2024-01-30T16:30:50.741672Z",
     "iopub.status.busy": "2024-01-30T16:30:50.741345Z",
     "iopub.status.idle": "2024-01-30T16:30:50.745657Z",
     "shell.execute_reply": "2024-01-30T16:30:50.745022Z"
    },
    "pycharm": {
     "name": "#%%\n"
    }
   },
   "outputs": [
    {
     "data": {
      "text/plain": [
       "[]"
      ]
     },
     "execution_count": 4,
     "metadata": {},
     "output_type": "execute_result"
    }
   ],
   "source": [
    "factory.workflow"
   ]
  },
  {
   "cell_type": "markdown",
   "metadata": {
    "pycharm": {
     "is_executing": false,
     "name": "#%% md\n"
    }
   },
   "source": [
    "`workflow` is a list that contains the steps that will be executed in the order they will be executed. By default it is empty. Each step is called a \"component\".\n",
    "\n",
    "QCSubmit provides a suite of common curation components, such as to filter out molecules that contain unsupported elements, or to generate a set of conformers for each molecule.\n",
    "\n",
    "Let's set up a workflow that will filter out elements that are not supported by ANI1, then filter by molecular weight, and finally generate conformers for each of the molecules passing through the factory.\n",
    "\n",
    "First we set up the element filter:"
   ]
  },
  {
   "cell_type": "code",
   "execution_count": 5,
   "metadata": {
    "execution": {
     "iopub.execute_input": "2024-01-30T16:30:50.748999Z",
     "iopub.status.busy": "2024-01-30T16:30:50.748550Z",
     "iopub.status.idle": "2024-01-30T16:30:50.751665Z",
     "shell.execute_reply": "2024-01-30T16:30:50.751134Z"
    },
    "pycharm": {
     "name": "#%%\n"
    }
   },
   "outputs": [],
   "source": [
    "from openff.qcsubmit import workflow_components\n",
    "\n",
    "el_filter = workflow_components.ElementFilter(allowed_elements=[1, 6, 7, 8])\n",
    "\n",
    "factory.add_workflow_components(el_filter)"
   ]
  },
  {
   "cell_type": "markdown",
   "metadata": {
    "pycharm": {
     "name": "#%% md\n"
    }
   },
   "source": [
    "This filter has the ability to filter elements by symbol or atomic number. Here we only keep molecules that have no elements other than Hydrogen, Carbon, Nitrogen and Oxygen as we would like to use ANI1 as our QC method."
   ]
  },
  {
   "cell_type": "markdown",
   "metadata": {
    "pycharm": {
     "name": "#%% md\n"
    }
   },
   "source": [
    "Now we set up the weight filter and conformer generation components and add them to the workflow:"
   ]
  },
  {
   "cell_type": "code",
   "execution_count": 6,
   "metadata": {
    "execution": {
     "iopub.execute_input": "2024-01-30T16:30:50.754025Z",
     "iopub.status.busy": "2024-01-30T16:30:50.753859Z",
     "iopub.status.idle": "2024-01-30T16:30:50.756926Z",
     "shell.execute_reply": "2024-01-30T16:30:50.756318Z"
    },
    "pycharm": {
     "name": "#%%\n"
    }
   },
   "outputs": [],
   "source": [
    "weight_filter = workflow_components.MolecularWeightFilter(\n",
    "    minimum_weight=130,\n",
    "    maximum_weight=781,\n",
    ")\n",
    "factory.add_workflow_components(weight_filter)\n",
    "\n",
    "conf_gen = workflow_components.StandardConformerGenerator(\n",
    "    max_conformers=1, toolkit=\"rdkit\"\n",
    ")\n",
    "factory.add_workflow_components(conf_gen)"
   ]
  },
  {
   "cell_type": "markdown",
   "metadata": {
    "pycharm": {
     "name": "#%% md\n"
    }
   },
   "source": [
    "Let's look at the workflow and make sure all the components were correctly added:"
   ]
  },
  {
   "cell_type": "code",
   "execution_count": 7,
   "metadata": {
    "execution": {
     "iopub.execute_input": "2024-01-30T16:30:50.759540Z",
     "iopub.status.busy": "2024-01-30T16:30:50.759298Z",
     "iopub.status.idle": "2024-01-30T16:30:50.763020Z",
     "shell.execute_reply": "2024-01-30T16:30:50.762310Z"
    },
    "pycharm": {
     "name": "#%%\n"
    }
   },
   "outputs": [
    {
     "data": {
      "text/plain": [
       "[ElementFilter(type='ElementFilter', allowed_elements=[1, 6, 7, 8]),\n",
       " MolecularWeightFilter(type='MolecularWeightFilter', minimum_weight=130, maximum_weight=781),\n",
       " StandardConformerGenerator(type='StandardConformerGenerator', rms_cutoff=None, max_conformers=1, clear_existing=True)]"
      ]
     },
     "execution_count": 7,
     "metadata": {},
     "output_type": "execute_result"
    }
   ],
   "source": [
    "factory.workflow"
   ]
  },
  {
   "cell_type": "markdown",
   "metadata": {
    "pycharm": {
     "name": "#%% md\n"
    }
   },
   "source": [
    "We can save the settings and workflow so they can be used again later. Workflows can be saved to several formats, including the popular JSON and YAML:"
   ]
  },
  {
   "cell_type": "code",
   "execution_count": 8,
   "metadata": {
    "execution": {
     "iopub.execute_input": "2024-01-30T16:30:50.766252Z",
     "iopub.status.busy": "2024-01-30T16:30:50.765891Z",
     "iopub.status.idle": "2024-01-30T16:30:50.773571Z",
     "shell.execute_reply": "2024-01-30T16:30:50.773157Z"
    },
    "pycharm": {
     "name": "#%%\n"
    }
   },
   "outputs": [],
   "source": [
    "factory.export_settings(\"example-factory.json\")\n",
    "factory.export_settings(\"example-factory.yaml\")"
   ]
  },
  {
   "cell_type": "markdown",
   "metadata": {
    "pycharm": {
     "name": "#%% md\n"
    }
   },
   "source": [
    "Let's look at the JSON output:"
   ]
  },
  {
   "cell_type": "code",
   "execution_count": 9,
   "metadata": {
    "execution": {
     "iopub.execute_input": "2024-01-30T16:30:50.775858Z",
     "iopub.status.busy": "2024-01-30T16:30:50.775673Z",
     "iopub.status.idle": "2024-01-30T16:30:50.916582Z",
     "shell.execute_reply": "2024-01-30T16:30:50.915926Z"
    },
    "pycharm": {
     "name": "#%%\n"
    }
   },
   "outputs": [
    {
     "name": "stdout",
     "output_type": "stream",
     "text": [
      "{\r\n",
      "  \"qc_specifications\": {\r\n",
      "    \"default\": {\r\n",
      "      \"method\": \"B3LYP-D3BJ\",\r\n",
      "      \"basis\": \"DZVP\",\r\n",
      "      \"program\": \"psi4\",\r\n",
      "      \"spec_name\": \"default\",\r\n",
      "      \"spec_description\": \"Standard OpenFF optimization quantum chemistry specification.\",\r\n",
      "      \"store_wavefunction\": \"none\",\r\n",
      "      \"implicit_solvent\": null,\r\n",
      "      \"maxiter\": 200,\r\n",
      "      \"scf_properties\": [\r\n",
      "        \"dipole\",\r\n",
      "        \"quadrupole\",\r\n",
      "        \"wiberg_lowdin_indices\",\r\n",
      "        \"mayer_indices\"\r\n",
      "      ],\r\n",
      "      \"keywords\": {}\r\n",
      "    },\r\n",
      "    \"ani1ccx\": {\r\n"
     ]
    }
   ],
   "source": [
    "! head -n 20 example-factory.json"
   ]
  },
  {
   "cell_type": "markdown",
   "metadata": {
    "pycharm": {
     "name": "#%% md\n"
    }
   },
   "source": [
    "These settings can be re-imported easily using the API:"
   ]
  },
  {
   "cell_type": "code",
   "execution_count": 10,
   "metadata": {
    "execution": {
     "iopub.execute_input": "2024-01-30T16:30:50.919654Z",
     "iopub.status.busy": "2024-01-30T16:30:50.919396Z",
     "iopub.status.idle": "2024-01-30T16:30:50.926695Z",
     "shell.execute_reply": "2024-01-30T16:30:50.925553Z"
    }
   },
   "outputs": [],
   "source": [
    "imported_factory = BasicDatasetFactory.from_file(\"example-factory.json\")"
   ]
  },
  {
   "cell_type": "markdown",
   "metadata": {},
   "source": [
    "## Creating the dataset\n",
    "\n",
    "We can run the workflow on an example set of molecules:"
   ]
  },
  {
   "cell_type": "code",
   "execution_count": 11,
   "metadata": {
    "execution": {
     "iopub.execute_input": "2024-01-30T16:30:50.930138Z",
     "iopub.status.busy": "2024-01-30T16:30:50.929934Z",
     "iopub.status.idle": "2024-01-30T16:30:51.273263Z",
     "shell.execute_reply": "2024-01-30T16:30:51.272677Z"
    },
    "scrolled": true
   },
   "outputs": [],
   "source": [
    "from openff.toolkit.topology import Molecule\n",
    "\n",
    "mols = [\n",
    "    Molecule.from_smiles(smiles)\n",
    "    for smiles in [\n",
    "        \"[H]/N=C(/N)\\\\Nc1[nH]nnn1\",\n",
    "        \"c1cc[nH+]cc1\",\n",
    "        \"C[N+](C)(C)[O-]\",\n",
    "        \"CONC(=O)N\",\n",
    "        \"c1ccc2c(c1)cc[nH]2\",\n",
    "        \"c1ccc(cc1)/N=C\\\\NO\",\n",
    "        \"C=CO\",\n",
    "        \"c1cocc1[O-]\",\n",
    "        \"CC(=O)NO\",\n",
    "        \"C[N+](=C)C\",\n",
    "        \"C(=O)C=O\",\n",
    "        \"C=C\",\n",
    "        \"CC1=NC(=NC1=[N+]=[N-])Cl\",\n",
    "        \"c1cc[n+](cc1)[O-]\",\n",
    "        \"CN(C)O\",\n",
    "        \"N(=O)(=O)O\",\n",
    "        \"CC=O\",\n",
    "        \"c1cc(oc1)c2ccco2\",\n",
    "        \"CC\",\n",
    "        \"C1C=CC(=O)C=C1\",\n",
    "    ]\n",
    "]"
   ]
  },
  {
   "cell_type": "markdown",
   "metadata": {
    "pycharm": {
     "name": "#%% md\n"
    }
   },
   "source": [
    "This is as simple as calling the factories `create_dataset` method and providing the set of molecules as input:"
   ]
  },
  {
   "cell_type": "code",
   "execution_count": 12,
   "metadata": {
    "execution": {
     "iopub.execute_input": "2024-01-30T16:30:51.276211Z",
     "iopub.status.busy": "2024-01-30T16:30:51.275948Z",
     "iopub.status.idle": "2024-01-30T16:31:01.493203Z",
     "shell.execute_reply": "2024-01-30T16:31:01.492685Z"
    },
    "scrolled": true
   },
   "outputs": [
    {
     "name": "stderr",
     "output_type": "stream",
     "text": [
      "\r\n",
      "Deduplication                 :   0%|                    | 0/20 [00:00<?, ?it/s]"
     ]
    },
    {
     "name": "stderr",
     "output_type": "stream",
     "text": [
      "\r\n",
      "Deduplication                 : 100%|██████████| 20/20 [00:00<00:00, 637.53it/s]"
     ]
    },
    {
     "name": "stderr",
     "output_type": "stream",
     "text": [
      "\n"
     ]
    },
    {
     "name": "stderr",
     "output_type": "stream",
     "text": [
      "\r\n",
      "ElementFilter                 :   0%|                    | 0/20 [00:00<?, ?it/s]"
     ]
    },
    {
     "name": "stderr",
     "output_type": "stream",
     "text": [
      "\r\n",
      "ElementFilter                 :   5%|▌           | 1/20 [00:04<01:16,  4.01s/it]"
     ]
    },
    {
     "name": "stderr",
     "output_type": "stream",
     "text": [
      "\r\n",
      "ElementFilter                 : 100%|███████████| 20/20 [00:04<00:00,  4.95it/s]"
     ]
    },
    {
     "name": "stderr",
     "output_type": "stream",
     "text": [
      "\n"
     ]
    },
    {
     "name": "stderr",
     "output_type": "stream",
     "text": [
      "\r\n",
      "MolecularWeightFilter         :   0%|                    | 0/19 [00:00<?, ?it/s]"
     ]
    },
    {
     "name": "stderr",
     "output_type": "stream",
     "text": [
      "\r\n",
      "MolecularWeightFilter         :   5%|▋           | 1/19 [00:03<01:00,  3.35s/it]"
     ]
    },
    {
     "name": "stderr",
     "output_type": "stream",
     "text": [
      "\r\n",
      "MolecularWeightFilter         : 100%|███████████| 19/19 [00:03<00:00,  5.57it/s]"
     ]
    },
    {
     "name": "stderr",
     "output_type": "stream",
     "text": [
      "\n"
     ]
    },
    {
     "name": "stderr",
     "output_type": "stream",
     "text": [
      "\r\n",
      "StandardConformerGenerator    :   0%|                     | 0/2 [00:00<?, ?it/s]"
     ]
    },
    {
     "name": "stderr",
     "output_type": "stream",
     "text": [
      "\r\n",
      "StandardConformerGenerator    :  50%|██████▌      | 1/2 [00:02<00:02,  2.12s/it]"
     ]
    },
    {
     "name": "stderr",
     "output_type": "stream",
     "text": [
      "\r\n",
      "StandardConformerGenerator    : 100%|█████████████| 2/2 [00:02<00:00,  1.06s/it]"
     ]
    },
    {
     "name": "stderr",
     "output_type": "stream",
     "text": [
      "\n"
     ]
    },
    {
     "name": "stderr",
     "output_type": "stream",
     "text": [
      "\r\n",
      "Preparation                   :   0%|                     | 0/2 [00:00<?, ?it/s]"
     ]
    },
    {
     "name": "stderr",
     "output_type": "stream",
     "text": [
      "\r\n",
      "Preparation                   : 100%|█████████████| 2/2 [00:00<00:00, 56.30it/s]"
     ]
    },
    {
     "name": "stderr",
     "output_type": "stream",
     "text": [
      "\n"
     ]
    },
    {
     "data": {
      "text/plain": [
       "BasicDataset(qc_specifications={'default': QCSpec(method='B3LYP-D3BJ', basis='DZVP', program='psi4', spec_name='default', spec_description='Standard OpenFF optimization quantum chemistry specification.', store_wavefunction=<WavefunctionProtocolEnum.none: 'none'>, implicit_solvent=None, maxiter=200, scf_properties=[<SCFProperties.Dipole: 'dipole'>, <SCFProperties.Quadrupole: 'quadrupole'>, <SCFProperties.WibergLowdinIndices: 'wiberg_lowdin_indices'>, <SCFProperties.MayerIndices: 'mayer_indices'>], keywords={}), 'ani1ccx': QCSpec(method='ani1ccx', basis=None, program='torchani', spec_name='ani1ccx', spec_description='ANI1ccx standard specification', store_wavefunction=<WavefunctionProtocolEnum.none: 'none'>, implicit_solvent=None, maxiter=200, scf_properties=[<SCFProperties.Dipole: 'dipole'>, <SCFProperties.Quadrupole: 'quadrupole'>, <SCFProperties.WibergLowdinIndices: 'wiberg_lowdin_indices'>, <SCFProperties.MayerIndices: 'mayer_indices'>], keywords={})}, driver=<SinglepointDriver.energy: 'energy'>, priority='normal', dataset_tags=['openff'], compute_tag='openff', dataset_name='example-dataset', dataset_tagline='An example dataset.', type='DataSet', description='An example dataset.', metadata=Metadata(submitter='mattthompson', creation_date=datetime.date(2024, 1, 30), collection_type='DataSet', dataset_name='example-dataset', short_description='An example dataset.', long_description_url=None, long_description='An example dataset.', elements={'C', 'N', 'H', 'O'}), provenance={'openff-qcsubmit': '0.50.2+0.g2fa465a.dirty', 'openff-toolkit': '0.15.0', 'RDKitToolkitWrapper': '2023.09.4', 'AmberToolsToolkitWrapper': '22.0'}, dataset={'ON/C=N\\\\c1ccccc1': DatasetEntry(index='ON/C=N\\\\c1ccccc1', initial_molecules=[Molecule(name='C7H8N2O', formula='C7H8N2O', hash='3c416ab')], attributes=MoleculeAttributes(canonical_smiles='ONC=Nc1ccccc1', canonical_isomeric_smiles='ON/C=N\\\\c1ccccc1', canonical_explicit_hydrogen_smiles='[H][O][N]([H])[C]([H])=[N][c]1[c]([H])[c]([H])[c]([H])[c]([H])[c]1[H]', canonical_isomeric_explicit_hydrogen_smiles='[H][O][N]([H])/[C]([H])=[N]\\\\[c]1[c]([H])[c]([H])[c]([H])[c]([H])[c]1[H]', canonical_isomeric_explicit_hydrogen_mapped_smiles='[c:1]1([H:11])[c:2]([H:12])[c:3]([H:13])[c:4](/[N:7]=[C:8](\\\\[N:9]([O:10][H:18])[H:17])[H:16])[c:5]([H:14])[c:6]1[H:15]', molecular_formula='C7H8N2O', standard_inchi='InChI=1S/C7H8N2O/c10-9-6-8-7-4-2-1-3-5-7/h1-6,10H,(H,8,9)', inchi_key='FEUZPLBUEYBLTN-UHFFFAOYSA-N', fixed_hydrogen_inchi='InChI=1/C7H8N2O/c10-9-6-8-7-4-2-1-3-5-7/h1-6,10H,(H,8,9)/f/h9H/b8-6-', fixed_hydrogen_inchi_key='FEUZPLBUEYBLTN-NAFDMULTNA-N', unique_fixed_hydrogen_inchi_keys={'FEUZPLBUEYBLTN-NAFDMULTNA-N'}), extras={'canonical_isomeric_explicit_hydrogen_mapped_smiles': '[c:1]1([H:11])[c:2]([H:12])[c:3]([H:13])[c:4](/[N:7]=[C:8](\\\\[N:9]([O:10][H:18])[H:17])[H:16])[c:5]([H:14])[c:6]1[H:15]'}, keywords={}), 'c1coc(-c2ccco2)c1': DatasetEntry(index='c1coc(-c2ccco2)c1', initial_molecules=[Molecule(name='C8H6O2', formula='C8H6O2', hash='3dbee98')], attributes=MoleculeAttributes(canonical_smiles='c1coc(-c2ccco2)c1', canonical_isomeric_smiles='c1coc(-c2ccco2)c1', canonical_explicit_hydrogen_smiles='[H][C]1=[C]([H])[C]([H])=[C]([C]2=[C]([H])[C]([H])=[C]([H])[O]2)[O]1', canonical_isomeric_explicit_hydrogen_smiles='[H][C]1=[C]([H])[C]([H])=[C]([C]2=[C]([H])[C]([H])=[C]([H])[O]2)[O]1', canonical_isomeric_explicit_hydrogen_mapped_smiles='[C:1]1([H:11])=[C:5]([H:13])[O:4][C:3]([C:6]2=[C:7]([H:14])[C:8]([H:15])=[C:9]([H:16])[O:10]2)=[C:2]1[H:12]', molecular_formula='C8H6O2', standard_inchi='InChI=1S/C8H6O2/c1-3-7(9-5-1)8-4-2-6-10-8/h1-6H', inchi_key='UDHZFLBMZZVHRA-UHFFFAOYSA-N', fixed_hydrogen_inchi='InChI=1/C8H6O2/c1-3-7(9-5-1)8-4-2-6-10-8/h1-6H', fixed_hydrogen_inchi_key='UDHZFLBMZZVHRA-UHFFFAOYNA-N', unique_fixed_hydrogen_inchi_keys={'UDHZFLBMZZVHRA-UHFFFAOYNA-N'}), extras={'canonical_isomeric_explicit_hydrogen_mapped_smiles': '[C:1]1([H:11])=[C:5]([H:13])[O:4][C:3]([C:6]2=[C:7]([H:14])[C:8]([H:15])=[C:9]([H:16])[O:10]2)=[C:2]1[H:12]'}, keywords={})}, filtered_molecules={'ElementFilter': FilterEntry(component='ElementFilter', component_settings={'type': 'ElementFilter', 'allowed_elements': [1, 6, 7, 8]}, component_provenance={'openff-toolkit': '0.15.0', 'openff-qcsubmit': '0.50.2+0.g2fa465a.dirty', 'RDKitToolkitWrapper': '2023.09.4', 'AmberToolsToolkitWrapper': '22.0', 'openff-units_elements': '0.2.1'}, molecules=['[H][C]([H])([H])[C]1=[N][C]([Cl])=[N][C]1=[N+]=[N-]']), 'MolecularWeightFilter': FilterEntry(component='MolecularWeightFilter', component_settings={'type': 'MolecularWeightFilter', 'minimum_weight': 130, 'maximum_weight': 781}, component_provenance={'openff-toolkit': '0.15.0', 'openff-qcsubmit': '0.50.2+0.g2fa465a.dirty', 'RDKitToolkitWrapper': '2023.09.4', 'AmberToolsToolkitWrapper': '22.0'}, molecules=['[H]/[N]=[C](/[N]([H])[H])[N]([H])[C]1=[N][N]=[N][N]1[H]', '[H][c]1[c]([H])[c]([H])[n+]([H])[c]([H])[c]1[H]', '[H][C]([H])([H])[N+]([O-])([C]([H])([H])[H])[C]([H])([H])[H]', '[H][N]([H])[C](=[O])[N]([H])[O][C]([H])([H])[H]', '[H][C]1=[C]([H])[N]([H])[c]2[c]([H])[c]([H])[c]([H])[c]([H])[c]21', '[H][O][C]([H])=[C]([H])[H]', '[H][C]1=[C]([H])[C]([O-])=[C]([H])[O]1', '[H][O][N]([H])[C](=[O])[C]([H])([H])[H]', '[H][C]([H])=[N+]([C]([H])([H])[H])[C]([H])([H])[H]', '[H][C](=[O])[C]([H])=[O]', '[H][C]([H])=[C]([H])[H]', '[H][c]1[c]([H])[c]([H])[n+]([O-])[c]([H])[c]1[H]', '[H][O][N]([C]([H])([H])[H])[C]([H])([H])[H]', '[H][O][N+](=[O])[O-]', '[H][C](=[O])[C]([H])([H])[H]', '[H][C]([H])([H])[C]([H])([H])[H]', '[H][C]1=[C]([H])[C]([H])([H])[C]([H])=[C]([H])[C]1=[O]']), 'StandardConformerGenerator': FilterEntry(component='StandardConformerGenerator', component_settings={'type': 'StandardConformerGenerator', 'rms_cutoff': None, 'max_conformers': 1, 'clear_existing': True}, component_provenance={'openff-toolkit': '0.15.0', 'openff-qcsubmit': '0.50.2+0.g2fa465a.dirty', 'RDKitToolkitWrapper': '2023.09.4', 'AmberToolsToolkitWrapper': '22.0'}, molecules=[])})"
      ]
     },
     "execution_count": 12,
     "metadata": {},
     "output_type": "execute_result"
    }
   ],
   "source": [
    "dataset = factory.create_dataset(\n",
    "    molecules=mols,\n",
    "    dataset_name=\"example-dataset\",\n",
    "    description=\"An example dataset.\",\n",
    "    tagline=\"An example dataset.\",\n",
    ")\n",
    "dataset"
   ]
  },
  {
   "cell_type": "markdown",
   "metadata": {
    "pycharm": {
     "name": "#%% md\n"
    }
   },
   "source": [
    "We can easily see how many molecules the dataset contains after filtering:"
   ]
  },
  {
   "cell_type": "code",
   "execution_count": 13,
   "metadata": {
    "execution": {
     "iopub.execute_input": "2024-01-30T16:31:01.496289Z",
     "iopub.status.busy": "2024-01-30T16:31:01.496022Z",
     "iopub.status.idle": "2024-01-30T16:31:01.499297Z",
     "shell.execute_reply": "2024-01-30T16:31:01.498901Z"
    },
    "pycharm": {
     "name": "#%%\n"
    }
   },
   "outputs": [
    {
     "data": {
      "text/plain": [
       "2"
      ]
     },
     "execution_count": 13,
     "metadata": {},
     "output_type": "execute_result"
    }
   ],
   "source": [
    "dataset.n_molecules"
   ]
  },
  {
   "cell_type": "markdown",
   "metadata": {
    "pycharm": {
     "name": "#%% md\n"
    }
   },
   "source": [
    "and how many QC 'records' will be computed for this dataset:"
   ]
  },
  {
   "cell_type": "code",
   "execution_count": 14,
   "metadata": {
    "execution": {
     "iopub.execute_input": "2024-01-30T16:31:01.501333Z",
     "iopub.status.busy": "2024-01-30T16:31:01.501184Z",
     "iopub.status.idle": "2024-01-30T16:31:01.504091Z",
     "shell.execute_reply": "2024-01-30T16:31:01.503710Z"
    },
    "pycharm": {
     "name": "#%%\n"
    }
   },
   "outputs": [
    {
     "data": {
      "text/plain": [
       "2"
      ]
     },
     "execution_count": 14,
     "metadata": {},
     "output_type": "execute_result"
    }
   ],
   "source": [
    "dataset.n_records"
   ]
  },
  {
   "cell_type": "markdown",
   "metadata": {
    "pycharm": {
     "name": "#%% md\n"
    }
   },
   "source": [
    "We can iterate over the molecules in the dataset:"
   ]
  },
  {
   "cell_type": "code",
   "execution_count": 15,
   "metadata": {
    "execution": {
     "iopub.execute_input": "2024-01-30T16:31:01.506175Z",
     "iopub.status.busy": "2024-01-30T16:31:01.506009Z",
     "iopub.status.idle": "2024-01-30T16:31:01.517084Z",
     "shell.execute_reply": "2024-01-30T16:31:01.516666Z"
    },
    "pycharm": {
     "name": "#%%\n"
    }
   },
   "outputs": [
    {
     "name": "stdout",
     "output_type": "stream",
     "text": [
      "ON/C=N\\c1ccccc1\n",
      "c1coc(-c2ccco2)c1\n"
     ]
    }
   ],
   "source": [
    "for molecule in dataset.molecules:\n",
    "    print(molecule.to_smiles(explicit_hydrogens=False))"
   ]
  },
  {
   "cell_type": "markdown",
   "metadata": {
    "pycharm": {
     "name": "#%% md\n"
    }
   },
   "source": [
    "as well as those that were filtered out during its construction:"
   ]
  },
  {
   "cell_type": "code",
   "execution_count": 16,
   "metadata": {
    "execution": {
     "iopub.execute_input": "2024-01-30T16:31:01.519602Z",
     "iopub.status.busy": "2024-01-30T16:31:01.519379Z",
     "iopub.status.idle": "2024-01-30T16:31:01.808685Z",
     "shell.execute_reply": "2024-01-30T16:31:01.808255Z"
    },
    "pycharm": {
     "name": "#%%\n"
    }
   },
   "outputs": [
    {
     "name": "stdout",
     "output_type": "stream",
     "text": [
      "CC1=NC(Cl)=NC1=[N+]=[N-]\n",
      "[H]/N=C(/N)Nc1nnn[nH]1\n",
      "c1cc[nH+]cc1\n",
      "C[N+](C)(C)[O-]\n",
      "CONC(N)=O\n",
      "c1ccc2[nH]ccc2c1\n",
      "C=CO\n",
      "[O-]c1ccoc1\n",
      "CC(=O)NO\n",
      "C=[N+](C)C\n",
      "O=CC=O\n",
      "C=C\n"
     ]
    },
    {
     "name": "stdout",
     "output_type": "stream",
     "text": [
      "[O-][n+]1ccccc1\n",
      "CN(C)O\n",
      "O=[N+]([O-])O\n",
      "CC=O\n",
      "CC\n",
      "O=C1C=CCC=C1\n"
     ]
    }
   ],
   "source": [
    "for molecule in dataset.filtered:\n",
    "    print(molecule.to_smiles(explicit_hydrogens=False))"
   ]
  },
  {
   "cell_type": "markdown",
   "metadata": {
    "pycharm": {
     "name": "#%% md\n"
    }
   },
   "source": [
    "The final dataset is readily exportable to JSON:"
   ]
  },
  {
   "cell_type": "code",
   "execution_count": 17,
   "metadata": {
    "execution": {
     "iopub.execute_input": "2024-01-30T16:31:01.811770Z",
     "iopub.status.busy": "2024-01-30T16:31:01.811415Z",
     "iopub.status.idle": "2024-01-30T16:31:01.815830Z",
     "shell.execute_reply": "2024-01-30T16:31:01.815362Z"
    }
   },
   "outputs": [],
   "source": [
    "dataset.export_dataset(\"example-dataset.json\")"
   ]
  },
  {
   "cell_type": "markdown",
   "metadata": {
    "pycharm": {
     "name": "#%% md\n"
    }
   },
   "source": [
    "and the molecules it contains can be exported to various formats:"
   ]
  },
  {
   "cell_type": "code",
   "execution_count": 18,
   "metadata": {
    "execution": {
     "iopub.execute_input": "2024-01-30T16:31:01.818113Z",
     "iopub.status.busy": "2024-01-30T16:31:01.817937Z",
     "iopub.status.idle": "2024-01-30T16:31:01.821400Z",
     "shell.execute_reply": "2024-01-30T16:31:01.820854Z"
    }
   },
   "outputs": [],
   "source": [
    "dataset.molecules_to_file(\"example-dataset.smi\", \"smi\")\n",
    "dataset.molecules_to_file(\"example-dataset.inchi\", \"inchi\")\n",
    "dataset.molecules_to_file(\"example-dataset.inchikey\", \"inchikey\")"
   ]
  },
  {
   "cell_type": "markdown",
   "metadata": {
    "pycharm": {
     "name": "#%% md\n"
    }
   },
   "source": [
    "The molecules contained within a dataset can also be easily visualized by exporting the dataset to a PDF:"
   ]
  },
  {
   "cell_type": "code",
   "execution_count": 19,
   "metadata": {
    "execution": {
     "iopub.execute_input": "2024-01-30T16:31:01.823585Z",
     "iopub.status.busy": "2024-01-30T16:31:01.823414Z",
     "iopub.status.idle": "2024-01-30T16:31:02.040883Z",
     "shell.execute_reply": "2024-01-30T16:31:02.040424Z"
    },
    "pycharm": {
     "name": "#%%\n"
    }
   },
   "outputs": [],
   "source": [
    "dataset.visualize(\"example-dataset.pdf\")"
   ]
  }
 ],
 "metadata": {
  "kernelspec": {
   "display_name": "Python 3 (ipykernel)",
   "language": "python",
   "name": "python3"
  },
  "language_info": {
   "codemirror_mode": {
    "name": "ipython",
    "version": 3
   },
   "file_extension": ".py",
   "mimetype": "text/x-python",
   "name": "python",
   "nbconvert_exporter": "python",
   "pygments_lexer": "ipython3",
   "version": "3.11.7"
  }
 },
 "nbformat": 4,
 "nbformat_minor": 4
}
